{
  "nbformat": 4,
  "nbformat_minor": 0,
  "metadata": {
    "colab": {
      "provenance": [],
      "authorship_tag": "ABX9TyP0oJgvO8Up36oTVt5hQG9k",
      "include_colab_link": true
    },
    "kernelspec": {
      "name": "python3",
      "display_name": "Python 3"
    },
    "language_info": {
      "name": "python"
    }
  },
  "cells": [
    {
      "cell_type": "markdown",
      "metadata": {
        "id": "view-in-github",
        "colab_type": "text"
      },
      "source": [
        "<a href=\"https://colab.research.google.com/github/CarmenTheodoraCraciun/HairTextureClassification/blob/main/FNN_HairTexture.ipynb\" target=\"_parent\"><img src=\"https://colab.research.google.com/assets/colab-badge.svg\" alt=\"Open In Colab\"/></a>"
      ]
    },
    {
      "cell_type": "code",
      "execution_count": null,
      "metadata": {
        "colab": {
          "base_uri": "https://localhost:8080/"
        },
        "id": "L4uQ6RZDhCXL",
        "outputId": "3ba3c95d-a5c3-4a9d-f7da-bea108545b86"
      },
      "outputs": [
        {
          "output_type": "stream",
          "name": "stdout",
          "text": [
            "Requirement already satisfied: opencv-python in /usr/local/lib/python3.11/dist-packages (4.11.0.86)\n",
            "Requirement already satisfied: numpy>=1.21.2 in /usr/local/lib/python3.11/dist-packages (from opencv-python) (2.0.2)\n",
            "Requirement already satisfied: tensorflow in /usr/local/lib/python3.11/dist-packages (2.18.0)\n",
            "Requirement already satisfied: absl-py>=1.0.0 in /usr/local/lib/python3.11/dist-packages (from tensorflow) (1.4.0)\n",
            "Requirement already satisfied: astunparse>=1.6.0 in /usr/local/lib/python3.11/dist-packages (from tensorflow) (1.6.3)\n",
            "Requirement already satisfied: flatbuffers>=24.3.25 in /usr/local/lib/python3.11/dist-packages (from tensorflow) (25.2.10)\n",
            "Requirement already satisfied: gast!=0.5.0,!=0.5.1,!=0.5.2,>=0.2.1 in /usr/local/lib/python3.11/dist-packages (from tensorflow) (0.6.0)\n",
            "Requirement already satisfied: google-pasta>=0.1.1 in /usr/local/lib/python3.11/dist-packages (from tensorflow) (0.2.0)\n",
            "Requirement already satisfied: libclang>=13.0.0 in /usr/local/lib/python3.11/dist-packages (from tensorflow) (18.1.1)\n",
            "Requirement already satisfied: opt-einsum>=2.3.2 in /usr/local/lib/python3.11/dist-packages (from tensorflow) (3.4.0)\n",
            "Requirement already satisfied: packaging in /usr/local/lib/python3.11/dist-packages (from tensorflow) (24.2)\n",
            "Requirement already satisfied: protobuf!=4.21.0,!=4.21.1,!=4.21.2,!=4.21.3,!=4.21.4,!=4.21.5,<6.0.0dev,>=3.20.3 in /usr/local/lib/python3.11/dist-packages (from tensorflow) (5.29.4)\n",
            "Requirement already satisfied: requests<3,>=2.21.0 in /usr/local/lib/python3.11/dist-packages (from tensorflow) (2.32.3)\n",
            "Requirement already satisfied: setuptools in /usr/local/lib/python3.11/dist-packages (from tensorflow) (75.2.0)\n",
            "Requirement already satisfied: six>=1.12.0 in /usr/local/lib/python3.11/dist-packages (from tensorflow) (1.17.0)\n",
            "Requirement already satisfied: termcolor>=1.1.0 in /usr/local/lib/python3.11/dist-packages (from tensorflow) (3.1.0)\n",
            "Requirement already satisfied: typing-extensions>=3.6.6 in /usr/local/lib/python3.11/dist-packages (from tensorflow) (4.13.2)\n",
            "Requirement already satisfied: wrapt>=1.11.0 in /usr/local/lib/python3.11/dist-packages (from tensorflow) (1.17.2)\n",
            "Requirement already satisfied: grpcio<2.0,>=1.24.3 in /usr/local/lib/python3.11/dist-packages (from tensorflow) (1.71.0)\n",
            "Requirement already satisfied: tensorboard<2.19,>=2.18 in /usr/local/lib/python3.11/dist-packages (from tensorflow) (2.18.0)\n",
            "Requirement already satisfied: keras>=3.5.0 in /usr/local/lib/python3.11/dist-packages (from tensorflow) (3.8.0)\n",
            "Requirement already satisfied: numpy<2.1.0,>=1.26.0 in /usr/local/lib/python3.11/dist-packages (from tensorflow) (2.0.2)\n",
            "Requirement already satisfied: h5py>=3.11.0 in /usr/local/lib/python3.11/dist-packages (from tensorflow) (3.13.0)\n",
            "Requirement already satisfied: ml-dtypes<0.5.0,>=0.4.0 in /usr/local/lib/python3.11/dist-packages (from tensorflow) (0.4.1)\n",
            "Requirement already satisfied: tensorflow-io-gcs-filesystem>=0.23.1 in /usr/local/lib/python3.11/dist-packages (from tensorflow) (0.37.1)\n",
            "Requirement already satisfied: wheel<1.0,>=0.23.0 in /usr/local/lib/python3.11/dist-packages (from astunparse>=1.6.0->tensorflow) (0.45.1)\n",
            "Requirement already satisfied: rich in /usr/local/lib/python3.11/dist-packages (from keras>=3.5.0->tensorflow) (13.9.4)\n",
            "Requirement already satisfied: namex in /usr/local/lib/python3.11/dist-packages (from keras>=3.5.0->tensorflow) (0.0.9)\n",
            "Requirement already satisfied: optree in /usr/local/lib/python3.11/dist-packages (from keras>=3.5.0->tensorflow) (0.15.0)\n",
            "Requirement already satisfied: charset-normalizer<4,>=2 in /usr/local/lib/python3.11/dist-packages (from requests<3,>=2.21.0->tensorflow) (3.4.2)\n",
            "Requirement already satisfied: idna<4,>=2.5 in /usr/local/lib/python3.11/dist-packages (from requests<3,>=2.21.0->tensorflow) (3.10)\n",
            "Requirement already satisfied: urllib3<3,>=1.21.1 in /usr/local/lib/python3.11/dist-packages (from requests<3,>=2.21.0->tensorflow) (2.4.0)\n",
            "Requirement already satisfied: certifi>=2017.4.17 in /usr/local/lib/python3.11/dist-packages (from requests<3,>=2.21.0->tensorflow) (2025.4.26)\n",
            "Requirement already satisfied: markdown>=2.6.8 in /usr/local/lib/python3.11/dist-packages (from tensorboard<2.19,>=2.18->tensorflow) (3.8)\n",
            "Requirement already satisfied: tensorboard-data-server<0.8.0,>=0.7.0 in /usr/local/lib/python3.11/dist-packages (from tensorboard<2.19,>=2.18->tensorflow) (0.7.2)\n",
            "Requirement already satisfied: werkzeug>=1.0.1 in /usr/local/lib/python3.11/dist-packages (from tensorboard<2.19,>=2.18->tensorflow) (3.1.3)\n",
            "Requirement already satisfied: MarkupSafe>=2.1.1 in /usr/local/lib/python3.11/dist-packages (from werkzeug>=1.0.1->tensorboard<2.19,>=2.18->tensorflow) (3.0.2)\n",
            "Requirement already satisfied: markdown-it-py>=2.2.0 in /usr/local/lib/python3.11/dist-packages (from rich->keras>=3.5.0->tensorflow) (3.0.0)\n",
            "Requirement already satisfied: pygments<3.0.0,>=2.13.0 in /usr/local/lib/python3.11/dist-packages (from rich->keras>=3.5.0->tensorflow) (2.19.1)\n",
            "Requirement already satisfied: mdurl~=0.1 in /usr/local/lib/python3.11/dist-packages (from markdown-it-py>=2.2.0->rich->keras>=3.5.0->tensorflow) (0.1.2)\n",
            "Requirement already satisfied: efficientnet in /usr/local/lib/python3.11/dist-packages (1.1.1)\n",
            "Requirement already satisfied: keras-applications<=1.0.8,>=1.0.7 in /usr/local/lib/python3.11/dist-packages (from efficientnet) (1.0.8)\n",
            "Requirement already satisfied: scikit-image in /usr/local/lib/python3.11/dist-packages (from efficientnet) (0.25.2)\n",
            "Requirement already satisfied: numpy>=1.9.1 in /usr/local/lib/python3.11/dist-packages (from keras-applications<=1.0.8,>=1.0.7->efficientnet) (2.0.2)\n",
            "Requirement already satisfied: h5py in /usr/local/lib/python3.11/dist-packages (from keras-applications<=1.0.8,>=1.0.7->efficientnet) (3.13.0)\n",
            "Requirement already satisfied: scipy>=1.11.4 in /usr/local/lib/python3.11/dist-packages (from scikit-image->efficientnet) (1.15.3)\n",
            "Requirement already satisfied: networkx>=3.0 in /usr/local/lib/python3.11/dist-packages (from scikit-image->efficientnet) (3.4.2)\n",
            "Requirement already satisfied: pillow>=10.1 in /usr/local/lib/python3.11/dist-packages (from scikit-image->efficientnet) (11.2.1)\n",
            "Requirement already satisfied: imageio!=2.35.0,>=2.33 in /usr/local/lib/python3.11/dist-packages (from scikit-image->efficientnet) (2.37.0)\n",
            "Requirement already satisfied: tifffile>=2022.8.12 in /usr/local/lib/python3.11/dist-packages (from scikit-image->efficientnet) (2025.5.10)\n",
            "Requirement already satisfied: packaging>=21 in /usr/local/lib/python3.11/dist-packages (from scikit-image->efficientnet) (24.2)\n",
            "Requirement already satisfied: lazy-loader>=0.4 in /usr/local/lib/python3.11/dist-packages (from scikit-image->efficientnet) (0.4)\n"
          ]
        }
      ],
      "source": [
        "!pip install opencv-python\n",
        "!pip install tensorflow\n",
        "!pip install efficientnet"
      ]
    },
    {
      "cell_type": "markdown",
      "source": [
        "#Enviroment"
      ],
      "metadata": {
        "id": "mcEcG3AihHrq"
      }
    },
    {
      "cell_type": "code",
      "source": [
        "!rm -rf ./HairTextureClassification\n",
        "!git clone https://github.com/CarmenTheodoraCraciun/HairTextureClassification.git"
      ],
      "metadata": {
        "colab": {
          "base_uri": "https://localhost:8080/"
        },
        "id": "YPbyat_xhJDk",
        "outputId": "2a100ef6-7531-46f0-89c3-f83796bd2e4a"
      },
      "execution_count": null,
      "outputs": [
        {
          "output_type": "stream",
          "name": "stdout",
          "text": [
            "Cloning into 'HairTextureClassification'...\n",
            "remote: Enumerating objects: 30844, done.\u001b[K\n",
            "remote: Counting objects: 100% (9/9), done.\u001b[K\n",
            "remote: Compressing objects: 100% (4/4), done.\u001b[K\n",
            "remote: Total 30844 (delta 6), reused 5 (delta 5), pack-reused 30835 (from 4)\u001b[K\n",
            "Receiving objects: 100% (30844/30844), 824.24 MiB | 15.45 MiB/s, done.\n",
            "Resolving deltas: 100% (52/52), done.\n",
            "Updating files: 100% (16606/16606), done.\n"
          ]
        }
      ]
    },
    {
      "cell_type": "code",
      "source": [
        "import os\n",
        "import cv2\n",
        "import shutil\n",
        "import gc\n",
        "import numpy as np\n",
        "import pandas as pd\n",
        "import matplotlib.pyplot as plt\n",
        "import seaborn as sns\n",
        "from sklearn.model_selection import train_test_split\n",
        "from sklearn.preprocessing import LabelEncoder, StandardScaler\n",
        "from sklearn.metrics import classification_report, confusion_matrix, accuracy_score\n",
        "from sklearn.utils.class_weight import compute_class_weight\n",
        "from sklearn.neighbors import KNeighborsClassifier\n",
        "import tensorflow as tf\n",
        "from tensorflow.keras import mixed_precision\n",
        "from tensorflow.keras.models import Sequential\n",
        "from tensorflow.keras.layers import Conv2D, MaxPooling2D, Flatten, Dense, Dropout, GlobalAveragePooling2D, LeakyReLU, BatchNormalization, Activation\n",
        "from tensorflow.keras.preprocessing.image import ImageDataGenerator\n",
        "from tensorflow.keras.applications import VGG16\n",
        "from tensorflow.keras.applications.efficientnet import preprocess_input\n",
        "from tensorflow.keras.applications.vgg16 import preprocess_input\n",
        "from tensorflow.keras.utils import to_categorical\n",
        "from tensorflow.keras.applications import EfficientNetB0\n",
        "from tensorflow.keras.regularizers import l2\n",
        "from keras.optimizers import RMSprop\n",
        "from keras.callbacks import EarlyStopping, ReduceLROnPlateau, LearningRateScheduler\n",
        "from keras.optimizers import Adam, SGD\n",
        "from imblearn.over_sampling import SMOTE\n",
        "from keras import Input\n",
        "from numba import cuda\n",
        "from collections import Counter\n",
        "from collections import defaultdict\n",
        "import collections\n",
        "from math import gcd\n",
        "from functools import reduce\n",
        "from google.colab import files\n",
        "from IPython import get_ipython\n",
        "from IPython.display import display"
      ],
      "metadata": {
        "id": "CyJKhhiIhKlo"
      },
      "execution_count": null,
      "outputs": []
    },
    {
      "cell_type": "markdown",
      "source": [
        "##Optimizing the training environment and leaning up the TensorFlow session\n",
        "\n",
        "* Enabling mixed precision for optimal performance on the GPU\n",
        "* To avoid memory issues"
      ],
      "metadata": {
        "id": "qBgChAgbhSHI"
      }
    },
    {
      "cell_type": "code",
      "source": [
        "mixed_precision.set_global_policy('mixed_float16')\n",
        "tf.keras.backend.clear_session()\n",
        "collected = gc.collect()\n",
        "print(f\"Garbage collector freed {collected} unreachable objects.\")"
      ],
      "metadata": {
        "colab": {
          "base_uri": "https://localhost:8080/"
        },
        "id": "ayw53G1fhPgc",
        "outputId": "42b3a71d-ca0f-4d3b-c0db-4d58600adb31"
      },
      "execution_count": null,
      "outputs": [
        {
          "output_type": "stream",
          "name": "stdout",
          "text": [
            "Garbage collector freed 0 unreachable objects.\n"
          ]
        }
      ]
    },
    {
      "cell_type": "markdown",
      "source": [
        "#Loading data (unbalanced)"
      ],
      "metadata": {
        "id": "1fwUW_Muhjm2"
      }
    },
    {
      "cell_type": "code",
      "source": [
        "def load_images_and_labels(input_dir, size=(96, 96)):\n",
        "    images = []\n",
        "    labels = []\n",
        "    invalid_images = []\n",
        "\n",
        "    for category in os.listdir(input_dir):\n",
        "        category_dir = os.path.join(input_dir, category)\n",
        "        if os.path.isdir(category_dir):\n",
        "            for img_name in os.listdir(category_dir):\n",
        "                img_path = os.path.join(category_dir, img_name)\n",
        "                img = cv2.imread(img_path)\n",
        "                if img is not None:\n",
        "                    img = cv2.resize(img, size, interpolation=cv2.INTER_LINEAR)\n",
        "                    images.append(img)\n",
        "                    labels.append(category)\n",
        "\n",
        "                    if img.shape[:2] != (96, 96):\n",
        "                        invalid_images.append((img_name, img.shape[:2]))\n",
        "\n",
        "    if invalid_images:\n",
        "        print(\"Warning: Some images are not 96x96!\")\n",
        "        for img_name, shape in invalid_images:\n",
        "            print(f\" {img_name} has size {shape}\")\n",
        "\n",
        "    return np.array(images), np.array(labels)"
      ],
      "metadata": {
        "id": "NPtaM43Lhk-A"
      },
      "execution_count": null,
      "outputs": []
    },
    {
      "cell_type": "code",
      "source": [
        "images, labels = load_images_and_labels('./HairTextureClassification/processData')"
      ],
      "metadata": {
        "id": "G_je5wkFhmfK"
      },
      "execution_count": null,
      "outputs": []
    },
    {
      "cell_type": "markdown",
      "source": [
        "##Normalized images"
      ],
      "metadata": {
        "id": "G5M7IabChn6R"
      }
    },
    {
      "cell_type": "code",
      "source": [
        "images = images.astype('float32') / 255.0\n",
        "assert images.shape[1:] == (96, 96, 3), f\"Error: Some images are not 96x96! Found {images.shape[1:]}\""
      ],
      "metadata": {
        "id": "Ieaa9Rywho74"
      },
      "execution_count": null,
      "outputs": []
    },
    {
      "cell_type": "markdown",
      "source": [
        "##One-hot Encoding\n",
        "\n",
        "* One-hot encoding is a technique used to convert categorical data into a numeric format that a machine learning model can understand\n",
        "  * e.g. [0,0,0,1,0] means that the hair is straight."
      ],
      "metadata": {
        "id": "89bVaqBkhtcE"
      }
    },
    {
      "cell_type": "code",
      "source": [
        "# Convert labels to numeric format\n",
        "label_encoder = LabelEncoder()\n",
        "labels_encoded = label_encoder.fit_transform(labels)\n",
        "\n",
        "# Convert labels to one-hot format\n",
        "labels_categorical = to_categorical(labels_encoded).astype('float32')\n",
        "\n",
        "print(f\"Encoded labels shape: {labels_categorical.shape}\")\n",
        "print(f\"Example labels (first 5):\\n{labels_categorical[:5]}\")"
      ],
      "metadata": {
        "colab": {
          "base_uri": "https://localhost:8080/"
        },
        "id": "sX3y5EUwhwe4",
        "outputId": "da262f9f-6857-404d-f49e-1d95d340625e"
      },
      "execution_count": null,
      "outputs": [
        {
          "output_type": "stream",
          "name": "stdout",
          "text": [
            "Encoded labels shape: (12980, 5)\n",
            "Example labels (first 5):\n",
            "[[0. 0. 0. 1. 0.]\n",
            " [0. 0. 0. 1. 0.]\n",
            " [0. 0. 0. 1. 0.]\n",
            " [0. 0. 0. 1. 0.]\n",
            " [0. 0. 0. 1. 0.]]\n"
          ]
        }
      ]
    },
    {
      "cell_type": "markdown",
      "source": [
        "##Split data"
      ],
      "metadata": {
        "id": "85U1GNRnh07Y"
      }
    },
    {
      "cell_type": "code",
      "source": [
        "datagen = ImageDataGenerator()\n",
        "\n",
        "X_train, X_val, y_train, y_val = train_test_split(images, labels_categorical, test_size=0.2, random_state=42)\n",
        "\n",
        "assert X_train.shape[1:] == (96, 96, 3), f\"Error: X_train images are not 96x96! Found {X_train.shape[1:]}\"\n",
        "assert X_val.shape[1:] == (96, 96, 3), f\"Error: X_val images are not 96x96! Found {X_val.shape[1:]}\"\n",
        "\n",
        "# The data generator\n",
        "# train_generator = datagen.flow(X_train, y_train, batch_size=64, shuffle=True)\n",
        "# validation_generator = datagen.flow(X_val, y_val, batch_size=64)\n",
        "train_generator = datagen.flow(X_train, y_train, batch_size=32, shuffle=True)\n",
        "validation_generator = datagen.flow(X_val, y_val, batch_size=32)\n",
        "\n",
        "\n",
        "# Calculating steps per epoch\n",
        "steps_per_epoch = np.ceil(len(X_train) / 64).astype(int)\n",
        "validation_steps = np.ceil(len(X_val) / 64).astype(int)\n",
        "\n",
        "print(f\"Train generator: {steps_per_epoch} batches, Total images: {len(X_train)}\")\n",
        "print(f\"Validation generator: {validation_steps} batches, Total images: {len(X_val)}\")"
      ],
      "metadata": {
        "colab": {
          "base_uri": "https://localhost:8080/"
        },
        "id": "gV7u_5nOib80",
        "outputId": "614839d6-4793-4a1e-926a-8a3119365f5f"
      },
      "execution_count": null,
      "outputs": [
        {
          "output_type": "stream",
          "name": "stdout",
          "text": [
            "Train generator: 163 batches, Total images: 10384\n",
            "Validation generator: 41 batches, Total images: 2596\n"
          ]
        }
      ]
    },
    {
      "cell_type": "code",
      "source": [
        "print(collections.Counter(labels))"
      ],
      "metadata": {
        "colab": {
          "base_uri": "https://localhost:8080/"
        },
        "id": "vjSBdGxaiddu",
        "outputId": "33d4c856-4097-4b41-c6d5-a6fadec22587"
      },
      "execution_count": null,
      "outputs": [
        {
          "output_type": "stream",
          "name": "stdout",
          "text": [
            "Counter({np.str_('curly'): 4120, np.str_('dreadlocks'): 2335, np.str_('wavy'): 2317, np.str_('straight'): 2120, np.str_('kinky'): 2088})\n"
          ]
        }
      ]
    },
    {
      "cell_type": "markdown",
      "source": [
        "#Balanced data (each category has 2000 images)"
      ],
      "metadata": {
        "id": "wsur19Knig65"
      }
    },
    {
      "cell_type": "code",
      "source": [
        "def load_images_and_labels_eq(input_dir, size=(96, 96), max_per_category=2000):\n",
        "    images = []\n",
        "    labels = []\n",
        "    invalid_images = []\n",
        "    category_counts = defaultdict(int)  # Contor pentru fiecare categorie\n",
        "\n",
        "    for category in os.listdir(input_dir):\n",
        "        category_dir = os.path.join(input_dir, category)\n",
        "        if os.path.isdir(category_dir):\n",
        "            for img_name in os.listdir(category_dir):\n",
        "                if category_counts[category] >= max_per_category:\n",
        "                    continue  # Dacă am deja 2000 imagini, trecem la următoarea\n",
        "\n",
        "                img_path = os.path.join(category_dir, img_name)\n",
        "                img = cv2.imread(img_path)\n",
        "                if img is not None:\n",
        "                    img = cv2.resize(img, size, interpolation=cv2.INTER_LINEAR)\n",
        "                    images.append(img)\n",
        "                    labels.append(category)\n",
        "                    category_counts[category] += 1  # Incrementăm numărul de imagini\n",
        "\n",
        "                    if img.shape[:2] != (96, 96):\n",
        "                        invalid_images.append((img_name, img.shape[:2]))\n",
        "\n",
        "    if invalid_images:\n",
        "        print(\"Warning: Some images are not 96x96!\")\n",
        "        for img_name, shape in invalid_images:\n",
        "            print(f\" {img_name} has size {shape}\")\n",
        "\n",
        "    return np.array(images), np.array(labels)"
      ],
      "metadata": {
        "id": "jJR8ZYPiiiTx"
      },
      "execution_count": null,
      "outputs": []
    },
    {
      "cell_type": "code",
      "source": [
        "images_eq, labels_eq = load_images_and_labels_eq('./HairTextureClassification/processData', max_per_category=2000)"
      ],
      "metadata": {
        "id": "SnJ-nkhXijkU"
      },
      "execution_count": null,
      "outputs": []
    },
    {
      "cell_type": "code",
      "source": [
        "images_eq = images_eq.astype('float32') / 255.0\n",
        "assert images_eq.shape[1:] == (96, 96, 3), f\"Error: Some images are not 96x96! Found {images_eq.shape[1:]}\""
      ],
      "metadata": {
        "id": "9qt_MmdNilAz"
      },
      "execution_count": null,
      "outputs": []
    },
    {
      "cell_type": "code",
      "source": [
        "# Convert labels to numeric format\n",
        "label_encoder_eq = LabelEncoder()\n",
        "labels_encoded_eq = label_encoder_eq.fit_transform(labels_eq)\n",
        "\n",
        "# Convert labels to one-hot format\n",
        "labels_categorical_eq = to_categorical(labels_encoded_eq).astype('float32')\n",
        "\n",
        "print(f\"Encoded labels shape: {labels_categorical_eq.shape}\")\n",
        "print(f\"Example labels (first 5):\\n{labels_categorical_eq[:5]}\")"
      ],
      "metadata": {
        "id": "mWIg1DoKinhb",
        "colab": {
          "base_uri": "https://localhost:8080/"
        },
        "outputId": "f518d387-dc79-4238-d239-45ea6b75475c"
      },
      "execution_count": null,
      "outputs": [
        {
          "output_type": "stream",
          "name": "stdout",
          "text": [
            "Encoded labels shape: (10000, 5)\n",
            "Example labels (first 5):\n",
            "[[0. 0. 0. 1. 0.]\n",
            " [0. 0. 0. 1. 0.]\n",
            " [0. 0. 0. 1. 0.]\n",
            " [0. 0. 0. 1. 0.]\n",
            " [0. 0. 0. 1. 0.]]\n"
          ]
        }
      ]
    },
    {
      "cell_type": "code",
      "source": [
        "datagen_eq = ImageDataGenerator()\n",
        "\n",
        "X_train_eq, X_val_eq, y_train_eq, y_val_eq = train_test_split(images_eq, labels_categorical_eq, test_size=0.2, random_state=42)\n",
        "\n",
        "assert X_train_eq.shape[1:] == (96, 96, 3), f\"Error: X_train images are not 96x96! Found {X_train_eq.shape[1:]}\"\n",
        "assert X_val_eq.shape[1:] == (96, 96, 3), f\"Error: X_val images are not 96x96! Found {X_val_eq.shape[1:]}\"\n",
        "\n",
        "# The data generator\n",
        "train_generator_eq = datagen_eq.flow(X_train_eq, y_train_eq, batch_size=64, shuffle=True)\n",
        "validation_generator_eq = datagen_eq.flow(X_val_eq, y_val_eq, batch_size=64)\n",
        "\n",
        "# Calculating steps per epoch\n",
        "# steps_per_epoch_eq = np.ceil(len(X_train) / 64).astype(int)\n",
        "# validation_steps_eq = np.ceil(len(X_val) / 64).astype(int)\n",
        "steps_per_epoch_eq = len(X_train_eq) // train_generator_eq.batch_size\n",
        "validation_steps_eq = len(X_val_eq) // validation_generator_eq.batch_size\n",
        "\n",
        "print(f\"Train generator: {steps_per_epoch_eq} batches, Total images: {len(X_train_eq)}\")\n",
        "print(f\"Validation generator: {validation_steps_eq} batches, Total images: {len(X_val_eq)}\")"
      ],
      "metadata": {
        "id": "KDy16d_6ipNE",
        "colab": {
          "base_uri": "https://localhost:8080/"
        },
        "outputId": "54942e40-2bc9-4426-a624-ea8047ef474e"
      },
      "execution_count": null,
      "outputs": [
        {
          "output_type": "stream",
          "name": "stdout",
          "text": [
            "Train generator: 125 batches, Total images: 8000\n",
            "Validation generator: 31 batches, Total images: 2000\n"
          ]
        }
      ]
    },
    {
      "cell_type": "code",
      "source": [
        "print(collections.Counter(labels_eq))"
      ],
      "metadata": {
        "id": "ySbN0zwkiquz",
        "colab": {
          "base_uri": "https://localhost:8080/"
        },
        "outputId": "0ff635af-eeaa-408a-f52c-c7b505e9f682"
      },
      "execution_count": null,
      "outputs": [
        {
          "output_type": "stream",
          "name": "stdout",
          "text": [
            "Counter({np.str_('straight'): 2000, np.str_('kinky'): 2000, np.str_('wavy'): 2000, np.str_('dreadlocks'): 2000, np.str_('curly'): 2000})\n"
          ]
        }
      ]
    },
    {
      "cell_type": "markdown",
      "source": [
        "#Model evaluation"
      ],
      "metadata": {
        "id": "PxdKy_JdiwR7"
      }
    },
    {
      "cell_type": "code",
      "source": [
        "def evaluate_model(model, history, X_val, y_val, label_encoder,y_pred_prob):\n",
        "    \"\"\"Evaluates the model on raw validation data.\"\"\"\n",
        "\n",
        "    # Calculează acuratețea\n",
        "    y_pred = np.argmax(y_pred_prob, axis=1)\n",
        "    accuracy = accuracy_score(np.argmax(y_val, axis=1), y_pred)\n",
        "    print(f\"Test accuracy: {accuracy:.4f}\")\n",
        "\n",
        "    # Classification report\n",
        "    report = classification_report(np.argmax(y_val, axis=1), y_pred, target_names=label_encoder.classes_)\n",
        "    print(\"Classification Report:\\n\", report)\n",
        "\n",
        "    # Confusion matrix\n",
        "    conf_matrix = confusion_matrix(np.argmax(y_val, axis=1), y_pred)\n",
        "    conf_df = pd.DataFrame(conf_matrix, index=label_encoder.classes_, columns=label_encoder.classes_)\n",
        "\n",
        "    # Afișează matricea de confuzie\n",
        "    plt.figure(figsize=(10, 7))\n",
        "    sns.heatmap(conf_df, annot=True, cmap=\"Blues\", fmt=\"d\")\n",
        "    plt.title(\"Confusion Matrix\")\n",
        "    plt.ylabel(\"Real Classes\")\n",
        "    plt.xlabel(\"Predicted Classes\")\n",
        "    plt.show()\n",
        "\n",
        "    for i in range(5):\n",
        "      print(np.round(y_pred_prob[i], 2), \"→\", label_encoder.classes_[np.argmax(y_pred_prob[i])])\n",
        "\n",
        "    ds = tf.data.Dataset.from_tensor_slices((X_val, y_val))\n",
        "    for image, label in ds.take(1):\n",
        "      print(image.shape, label)"
      ],
      "metadata": {
        "id": "ScD1KsOFizDj"
      },
      "execution_count": null,
      "outputs": []
    },
    {
      "cell_type": "markdown",
      "source": [
        "#Building the Feedforward Neural Network model\n",
        "\n",
        "A **Feedforward Neural Network (FNN)** is a type of artificial neural network where connections between nodes do not form cycles—data flows in one direction, from input to output.\n",
        "\n",
        "Key Points:\n",
        "\n",
        "* **Structure**: Consists of input layer → hidden layers → output layer.\n",
        "* **No feedback loops**: Unlike recurrent networks, FNNs don't remember previous inputs.\n",
        "* **Training**: Uses supervised learning, typically with backpropagation."
      ],
      "metadata": {
        "id": "BAELTZ4Cj5UB"
      }
    },
    {
      "cell_type": "code",
      "source": [
        "fnn_model = Sequential([\n",
        "    Input(shape=(96, 96, 3)),\n",
        "    GlobalAveragePooling2D(),\n",
        "    Dense(256, activation='relu', kernel_regularizer=l2(0.001)),\n",
        "    Dropout(0.5),\n",
        "    Dense(128, activation='relu', kernel_regularizer=l2(0.001)),\n",
        "    Dropout(0.5),\n",
        "    Dense(64, activation='relu', kernel_regularizer=l2(0.001)),\n",
        "    Dropout(0.5),\n",
        "    Dense(5, activation='softmax')\n",
        "])\n",
        "optimizer = Adam(learning_rate=0.001)\n",
        "fnn_model.compile(optimizer=optimizer, loss='categorical_crossentropy', metrics=['accuracy'])\n",
        "early_stopping = EarlyStopping(monitor='val_loss', patience=3, restore_best_weights=True)"
      ],
      "metadata": {
        "id": "yf9zG1kfj7nr"
      },
      "execution_count": null,
      "outputs": []
    },
    {
      "cell_type": "markdown",
      "source": [
        "##Unbalnced data"
      ],
      "metadata": {
        "id": "B9CFYM-ij-Dw"
      }
    },
    {
      "cell_type": "code",
      "source": [
        "class_weights = compute_class_weight(\n",
        "    class_weight=\"balanced\",\n",
        "    classes=np.unique(labels_encoded),\n",
        "    y=labels_encoded\n",
        ")\n",
        "class_weight_dict = dict(enumerate(class_weights))\n",
        "\n",
        "history_fnn = fnn_model.fit(\n",
        "    train_generator,\n",
        "    epochs=50,\n",
        "    validation_data=validation_generator,\n",
        "    class_weight=class_weight_dict,\n",
        "    callbacks=[early_stopping]\n",
        ")"
      ],
      "metadata": {
        "id": "c0FDa1aYj_ju",
        "colab": {
          "base_uri": "https://localhost:8080/"
        },
        "outputId": "a8f23c99-5ba0-4b12-af0f-1bfdd709c2de"
      },
      "execution_count": null,
      "outputs": [
        {
          "output_type": "stream",
          "name": "stdout",
          "text": [
            "Epoch 1/50\n"
          ]
        },
        {
          "output_type": "stream",
          "name": "stderr",
          "text": [
            "/usr/local/lib/python3.11/dist-packages/keras/src/trainers/data_adapters/py_dataset_adapter.py:121: UserWarning: Your `PyDataset` class should call `super().__init__(**kwargs)` in its constructor. `**kwargs` can include `workers`, `use_multiprocessing`, `max_queue_size`. Do not pass these arguments to `fit()`, as they will be ignored.\n",
            "  self._warn_if_super_not_called()\n"
          ]
        },
        {
          "output_type": "stream",
          "name": "stdout",
          "text": [
            "\u001b[1m325/325\u001b[0m \u001b[32m━━━━━━━━━━━━━━━━━━━━\u001b[0m\u001b[37m\u001b[0m \u001b[1m6s\u001b[0m 11ms/step - accuracy: 0.1858 - loss: 1.7621 - val_accuracy: 0.1687 - val_loss: 1.6560\n",
            "Epoch 2/50\n",
            "\u001b[1m325/325\u001b[0m \u001b[32m━━━━━━━━━━━━━━━━━━━━\u001b[0m\u001b[37m\u001b[0m \u001b[1m4s\u001b[0m 13ms/step - accuracy: 0.2074 - loss: 1.6423 - val_accuracy: 0.3082 - val_loss: 1.6171\n",
            "Epoch 3/50\n",
            "\u001b[1m325/325\u001b[0m \u001b[32m━━━━━━━━━━━━━━━━━━━━\u001b[0m\u001b[37m\u001b[0m \u001b[1m4s\u001b[0m 11ms/step - accuracy: 0.2345 - loss: 1.6113 - val_accuracy: 0.2103 - val_loss: 1.6068\n",
            "Epoch 4/50\n",
            "\u001b[1m325/325\u001b[0m \u001b[32m━━━━━━━━━━━━━━━━━━━━\u001b[0m\u001b[37m\u001b[0m \u001b[1m3s\u001b[0m 10ms/step - accuracy: 0.2049 - loss: 1.6121 - val_accuracy: 0.2654 - val_loss: 1.6094\n",
            "Epoch 5/50\n",
            "\u001b[1m325/325\u001b[0m \u001b[32m━━━━━━━━━━━━━━━━━━━━\u001b[0m\u001b[37m\u001b[0m \u001b[1m4s\u001b[0m 14ms/step - accuracy: 0.2192 - loss: 1.6102 - val_accuracy: 0.1953 - val_loss: 1.5971\n",
            "Epoch 6/50\n",
            "\u001b[1m325/325\u001b[0m \u001b[32m━━━━━━━━━━━━━━━━━━━━\u001b[0m\u001b[37m\u001b[0m \u001b[1m3s\u001b[0m 10ms/step - accuracy: 0.2515 - loss: 1.5928 - val_accuracy: 0.2284 - val_loss: 1.5990\n",
            "Epoch 7/50\n",
            "\u001b[1m325/325\u001b[0m \u001b[32m━━━━━━━━━━━━━━━━━━━━\u001b[0m\u001b[37m\u001b[0m \u001b[1m3s\u001b[0m 10ms/step - accuracy: 0.2100 - loss: 1.6094 - val_accuracy: 0.3116 - val_loss: 1.5881\n",
            "Epoch 8/50\n",
            "\u001b[1m325/325\u001b[0m \u001b[32m━━━━━━━━━━━━━━━━━━━━\u001b[0m\u001b[37m\u001b[0m \u001b[1m4s\u001b[0m 11ms/step - accuracy: 0.2551 - loss: 1.5958 - val_accuracy: 0.1972 - val_loss: 1.5909\n",
            "Epoch 9/50\n",
            "\u001b[1m325/325\u001b[0m \u001b[32m━━━━━━━━━━━━━━━━━━━━\u001b[0m\u001b[37m\u001b[0m \u001b[1m5s\u001b[0m 10ms/step - accuracy: 0.2035 - loss: 1.6008 - val_accuracy: 0.2165 - val_loss: 1.5912\n",
            "Epoch 10/50\n",
            "\u001b[1m325/325\u001b[0m \u001b[32m━━━━━━━━━━━━━━━━━━━━\u001b[0m\u001b[37m\u001b[0m \u001b[1m3s\u001b[0m 10ms/step - accuracy: 0.2207 - loss: 1.5951 - val_accuracy: 0.2743 - val_loss: 1.5942\n"
          ]
        }
      ]
    },
    {
      "cell_type": "code",
      "source": [
        "y_pred_prob = fnn_model.predict(X_val)\n",
        "y_pred = np.argmax(y_pred_prob, axis=1)\n",
        "evaluate_model(fnn_model, history_fnn, X_val, y_val, label_encoder,y_pred_prob)"
      ],
      "metadata": {
        "id": "LH-EM92ZkA86",
        "colab": {
          "base_uri": "https://localhost:8080/",
          "height": 1000
        },
        "outputId": "be2bd58d-d5a2-4e44-cad5-ad96be9f44dd"
      },
      "execution_count": null,
      "outputs": [
        {
          "output_type": "stream",
          "name": "stdout",
          "text": [
            "\u001b[1m82/82\u001b[0m \u001b[32m━━━━━━━━━━━━━━━━━━━━\u001b[0m\u001b[37m\u001b[0m \u001b[1m1s\u001b[0m 7ms/step\n",
            "Test accuracy: 0.3116\n",
            "Classification Report:\n",
            "               precision    recall  f1-score   support\n",
            "\n",
            "       curly       0.36      0.69      0.48       816\n",
            "  dreadlocks       0.00      0.00      0.00       473\n",
            "       kinky       0.00      0.00      0.00       438\n",
            "    straight       0.25      0.32      0.28       424\n",
            "        wavy       0.21      0.24      0.23       445\n",
            "\n",
            "    accuracy                           0.31      2596\n",
            "   macro avg       0.17      0.25      0.20      2596\n",
            "weighted avg       0.19      0.31      0.24      2596\n",
            "\n"
          ]
        },
        {
          "output_type": "stream",
          "name": "stderr",
          "text": [
            "/usr/local/lib/python3.11/dist-packages/sklearn/metrics/_classification.py:1565: UndefinedMetricWarning: Precision is ill-defined and being set to 0.0 in labels with no predicted samples. Use `zero_division` parameter to control this behavior.\n",
            "  _warn_prf(average, modifier, f\"{metric.capitalize()} is\", len(result))\n",
            "/usr/local/lib/python3.11/dist-packages/sklearn/metrics/_classification.py:1565: UndefinedMetricWarning: Precision is ill-defined and being set to 0.0 in labels with no predicted samples. Use `zero_division` parameter to control this behavior.\n",
            "  _warn_prf(average, modifier, f\"{metric.capitalize()} is\", len(result))\n",
            "/usr/local/lib/python3.11/dist-packages/sklearn/metrics/_classification.py:1565: UndefinedMetricWarning: Precision is ill-defined and being set to 0.0 in labels with no predicted samples. Use `zero_division` parameter to control this behavior.\n",
            "  _warn_prf(average, modifier, f\"{metric.capitalize()} is\", len(result))\n"
          ]
        },
        {
          "output_type": "display_data",
          "data": {
            "text/plain": [
              "<Figure size 1000x700 with 2 Axes>"
            ],
            "image/png": "[encoded data removed]"
          },
          "metadata": {}
        },
        {
          "output_type": "stream",
          "name": "stdout",
          "text": [
            "[0.19 0.19 0.18 0.22 0.22] → wavy\n",
            "[0.19 0.18 0.17 0.23 0.23] → straight\n",
            "[0.19 0.18 0.18 0.22 0.22] → straight\n",
            "[0.2  0.19 0.19 0.21 0.22] → wavy\n",
            "[0.19 0.18 0.17 0.23 0.23] → straight\n",
            "(96, 96, 3) tf.Tensor([0. 0. 0. 0. 1.], shape=(5,), dtype=float32)\n"
          ]
        }
      ]
    },
    {
      "cell_type": "markdown",
      "source": [
        "##Balnce data"
      ],
      "metadata": {
        "id": "tKWUcyfgkDYd"
      }
    },
    {
      "cell_type": "code",
      "source": [
        "history_fnn = fnn_model.fit(\n",
        "    train_generator_eq,\n",
        "    epochs=50,\n",
        "    validation_data=validation_generator_eq,\n",
        "    steps_per_epoch=steps_per_epoch_eq,\n",
        "    validation_steps=validation_steps_eq,\n",
        "    class_weight=class_weight_dict,\n",
        "    callbacks=[early_stopping]\n",
        ")"
      ],
      "metadata": {
        "id": "yCqwFqOBkEk2",
        "colab": {
          "base_uri": "https://localhost:8080/"
        },
        "outputId": "19df92ea-8390-4991-fb1a-13bc7a864bd3"
      },
      "execution_count": null,
      "outputs": [
        {
          "output_type": "stream",
          "name": "stdout",
          "text": [
            "Epoch 1/50\n",
            "\u001b[1m  4/125\u001b[0m \u001b[37m━━━━━━━━━━━━━━━━━━━━\u001b[0m \u001b[1m3s\u001b[0m 25ms/step - accuracy: 0.2272 - loss: 1.7183"
          ]
        },
        {
          "output_type": "stream",
          "name": "stderr",
          "text": [
            "/usr/local/lib/python3.11/dist-packages/keras/src/trainers/data_adapters/py_dataset_adapter.py:121: UserWarning: Your `PyDataset` class should call `super().__init__(**kwargs)` in its constructor. `**kwargs` can include `workers`, `use_multiprocessing`, `max_queue_size`. Do not pass these arguments to `fit()`, as they will be ignored.\n",
            "  self._warn_if_super_not_called()\n"
          ]
        },
        {
          "output_type": "stream",
          "name": "stdout",
          "text": [
            "\u001b[1m125/125\u001b[0m \u001b[32m━━━━━━━━━━━━━━━━━━━━\u001b[0m\u001b[37m\u001b[0m \u001b[1m4s\u001b[0m 35ms/step - accuracy: 0.2340 - loss: 1.7044 - val_accuracy: 0.2384 - val_loss: 1.6011\n",
            "Epoch 2/50\n",
            "\u001b[1m125/125\u001b[0m \u001b[32m━━━━━━━━━━━━━━━━━━━━\u001b[0m\u001b[37m\u001b[0m \u001b[1m9s\u001b[0m 75ms/step - accuracy: 0.2348 - loss: 1.6802 - val_accuracy: 0.2434 - val_loss: 1.6058\n",
            "Epoch 3/50\n",
            "\u001b[1m125/125\u001b[0m \u001b[32m━━━━━━━━━━━━━━━━━━━━\u001b[0m\u001b[37m\u001b[0m \u001b[1m5s\u001b[0m 35ms/step - accuracy: 0.2216 - loss: 1.6835 - val_accuracy: 0.2414 - val_loss: 1.6142\n",
            "Epoch 4/50\n",
            "\u001b[1m125/125\u001b[0m \u001b[32m━━━━━━━━━━━━━━━━━━━━\u001b[0m\u001b[37m\u001b[0m \u001b[1m3s\u001b[0m 17ms/step - accuracy: 0.2340 - loss: 1.6775 - val_accuracy: 0.2404 - val_loss: 1.6120\n"
          ]
        }
      ]
    },
    {
      "cell_type": "code",
      "source": [
        "y_pred_prob = fnn_model.predict(X_val_eq)\n",
        "y_pred = np.argmax(y_pred_prob, axis=1)\n",
        "evaluate_model(fnn_model, history_fnn, X_val_eq, y_val_eq, label_encoder_eq, y_pred_prob)"
      ],
      "metadata": {
        "id": "aIr-9m7ekFze",
        "colab": {
          "base_uri": "https://localhost:8080/",
          "height": 1000
        },
        "outputId": "94b21ee9-cf50-4444-f3f5-f6d1860900ac"
      },
      "execution_count": null,
      "outputs": [
        {
          "output_type": "stream",
          "name": "stdout",
          "text": [
            "\u001b[1m63/63\u001b[0m \u001b[32m━━━━━━━━━━━━━━━━━━━━\u001b[0m\u001b[37m\u001b[0m \u001b[1m0s\u001b[0m 4ms/step\n",
            "Test accuracy: 0.2405\n",
            "Classification Report:\n",
            "               precision    recall  f1-score   support\n",
            "\n",
            "       curly       0.00      0.00      0.00       387\n",
            "  dreadlocks       0.00      0.00      0.00       415\n",
            "       kinky       0.23      0.59      0.33       393\n",
            "    straight       0.25      0.61      0.36       410\n",
            "        wavy       0.00      0.00      0.00       395\n",
            "\n",
            "    accuracy                           0.24      2000\n",
            "   macro avg       0.10      0.24      0.14      2000\n",
            "weighted avg       0.10      0.24      0.14      2000\n",
            "\n"
          ]
        },
        {
          "output_type": "stream",
          "name": "stderr",
          "text": [
            "/usr/local/lib/python3.11/dist-packages/sklearn/metrics/_classification.py:1565: UndefinedMetricWarning: Precision is ill-defined and being set to 0.0 in labels with no predicted samples. Use `zero_division` parameter to control this behavior.\n",
            "  _warn_prf(average, modifier, f\"{metric.capitalize()} is\", len(result))\n",
            "/usr/local/lib/python3.11/dist-packages/sklearn/metrics/_classification.py:1565: UndefinedMetricWarning: Precision is ill-defined and being set to 0.0 in labels with no predicted samples. Use `zero_division` parameter to control this behavior.\n",
            "  _warn_prf(average, modifier, f\"{metric.capitalize()} is\", len(result))\n",
            "/usr/local/lib/python3.11/dist-packages/sklearn/metrics/_classification.py:1565: UndefinedMetricWarning: Precision is ill-defined and being set to 0.0 in labels with no predicted samples. Use `zero_division` parameter to control this behavior.\n",
            "  _warn_prf(average, modifier, f\"{metric.capitalize()} is\", len(result))\n"
          ]
        },
        {
          "output_type": "display_data",
          "data": {
            "text/plain": [
              "<Figure size 1000x700 with 2 Axes>"
            ],
            "image/png": "[encoded data removed]"
          },
          "metadata": {}
        },
        {
          "output_type": "stream",
          "name": "stdout",
          "text": [
            "[0.14 0.19 0.21 0.23 0.22] → straight\n",
            "[0.14 0.19 0.21 0.24 0.23] → straight\n",
            "[0.13 0.18 0.2  0.25 0.24] → straight\n",
            "[0.12 0.17 0.19 0.27 0.25] → straight\n",
            "[0.13 0.18 0.2  0.26 0.24] → straight\n",
            "(96, 96, 3) tf.Tensor([0. 1. 0. 0. 0.], shape=(5,), dtype=float32)\n"
          ]
        }
      ]
    },
    {
      "cell_type": "markdown",
      "source": [
        "##Conclusion\n",
        "\n",
        "In both variants, we can see that:\n",
        "* FNN loses spatial information\n",
        "  - Images have **structure** (texture, shapes, edges), and Flatten() destroys this information\n",
        "  - FNN treats each pixel independently, without understanding the relationships between pixels.\n",
        "* FNN is not robust to image variations\n",
        "  - If an image is **slightly rotated, zoomed or moved**, FNN does not recognize it well.\n",
        "  - The model does not learn **general features**, but only **specific patterns** from the training data.\n",
        "* FNN has too many parameters for large images\n",
        "  - A **96x96x3** image has **27,648 pixels**.\n",
        "  - The model becomes **inefficient**, requiring more data and more training time.\n",
        "* FNN does not detect complex features\n",
        "  - Hair has **texture**, and FNN cannot detect **complex patterns**.\n",
        "  - The model does not understand the relationships between parts of the image."
      ],
      "metadata": {
        "id": "vFNdkGJmkHiZ"
      }
    }
  ]
}