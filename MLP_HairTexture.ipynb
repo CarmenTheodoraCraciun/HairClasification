{
  "cells": [
    {
      "cell_type": "markdown",
      "metadata": {
        "id": "view-in-github",
        "colab_type": "text"
      },
      "source": [
        "<a href=\"https://colab.research.google.com/github/CarmenTheodoraCraciun/HairTextureClassification/blob/main/MLP_HairTexture.ipynb\" target=\"_parent\"><img src=\"https://colab.research.google.com/assets/colab-badge.svg\" alt=\"Open In Colab\"/></a>"
      ]
    },
    {
      "cell_type": "markdown",
      "metadata": {
        "id": "mcEcG3AihHrq"
      },
      "source": [
        "#Enviroment"
      ]
    },
    {
      "cell_type": "code",
      "execution_count": null,
      "metadata": {
        "colab": {
          "base_uri": "https://localhost:8080/"
        },
        "id": "L4uQ6RZDhCXL",
        "outputId": "2778fe9b-741a-4054-b79d-fd6e44692234"
      },
      "outputs": [
        {
          "output_type": "stream",
          "name": "stdout",
          "text": [
            "Requirement already satisfied: opencv-python in /usr/local/lib/python3.11/dist-packages (4.11.0.86)\n",
            "Requirement already satisfied: numpy>=1.21.2 in /usr/local/lib/python3.11/dist-packages (from opencv-python) (2.0.2)\n",
            "Requirement already satisfied: tensorflow in /usr/local/lib/python3.11/dist-packages (2.18.0)\n",
            "Requirement already satisfied: absl-py>=1.0.0 in /usr/local/lib/python3.11/dist-packages (from tensorflow) (1.4.0)\n",
            "Requirement already satisfied: astunparse>=1.6.0 in /usr/local/lib/python3.11/dist-packages (from tensorflow) (1.6.3)\n",
            "Requirement already satisfied: flatbuffers>=24.3.25 in /usr/local/lib/python3.11/dist-packages (from tensorflow) (25.2.10)\n",
            "Requirement already satisfied: gast!=0.5.0,!=0.5.1,!=0.5.2,>=0.2.1 in /usr/local/lib/python3.11/dist-packages (from tensorflow) (0.6.0)\n",
            "Requirement already satisfied: google-pasta>=0.1.1 in /usr/local/lib/python3.11/dist-packages (from tensorflow) (0.2.0)\n",
            "Requirement already satisfied: libclang>=13.0.0 in /usr/local/lib/python3.11/dist-packages (from tensorflow) (18.1.1)\n",
            "Requirement already satisfied: opt-einsum>=2.3.2 in /usr/local/lib/python3.11/dist-packages (from tensorflow) (3.4.0)\n",
            "Requirement already satisfied: packaging in /usr/local/lib/python3.11/dist-packages (from tensorflow) (24.2)\n",
            "Requirement already satisfied: protobuf!=4.21.0,!=4.21.1,!=4.21.2,!=4.21.3,!=4.21.4,!=4.21.5,<6.0.0dev,>=3.20.3 in /usr/local/lib/python3.11/dist-packages (from tensorflow) (5.29.4)\n",
            "Requirement already satisfied: requests<3,>=2.21.0 in /usr/local/lib/python3.11/dist-packages (from tensorflow) (2.32.3)\n",
            "Requirement already satisfied: setuptools in /usr/local/lib/python3.11/dist-packages (from tensorflow) (75.2.0)\n",
            "Requirement already satisfied: six>=1.12.0 in /usr/local/lib/python3.11/dist-packages (from tensorflow) (1.17.0)\n",
            "Requirement already satisfied: termcolor>=1.1.0 in /usr/local/lib/python3.11/dist-packages (from tensorflow) (3.1.0)\n",
            "Requirement already satisfied: typing-extensions>=3.6.6 in /usr/local/lib/python3.11/dist-packages (from tensorflow) (4.13.2)\n",
            "Requirement already satisfied: wrapt>=1.11.0 in /usr/local/lib/python3.11/dist-packages (from tensorflow) (1.17.2)\n",
            "Requirement already satisfied: grpcio<2.0,>=1.24.3 in /usr/local/lib/python3.11/dist-packages (from tensorflow) (1.71.0)\n",
            "Requirement already satisfied: tensorboard<2.19,>=2.18 in /usr/local/lib/python3.11/dist-packages (from tensorflow) (2.18.0)\n",
            "Requirement already satisfied: keras>=3.5.0 in /usr/local/lib/python3.11/dist-packages (from tensorflow) (3.8.0)\n",
            "Requirement already satisfied: numpy<2.1.0,>=1.26.0 in /usr/local/lib/python3.11/dist-packages (from tensorflow) (2.0.2)\n",
            "Requirement already satisfied: h5py>=3.11.0 in /usr/local/lib/python3.11/dist-packages (from tensorflow) (3.13.0)\n",
            "Requirement already satisfied: ml-dtypes<0.5.0,>=0.4.0 in /usr/local/lib/python3.11/dist-packages (from tensorflow) (0.4.1)\n",
            "Requirement already satisfied: tensorflow-io-gcs-filesystem>=0.23.1 in /usr/local/lib/python3.11/dist-packages (from tensorflow) (0.37.1)\n",
            "Requirement already satisfied: wheel<1.0,>=0.23.0 in /usr/local/lib/python3.11/dist-packages (from astunparse>=1.6.0->tensorflow) (0.45.1)\n",
            "Requirement already satisfied: rich in /usr/local/lib/python3.11/dist-packages (from keras>=3.5.0->tensorflow) (13.9.4)\n",
            "Requirement already satisfied: namex in /usr/local/lib/python3.11/dist-packages (from keras>=3.5.0->tensorflow) (0.0.9)\n",
            "Requirement already satisfied: optree in /usr/local/lib/python3.11/dist-packages (from keras>=3.5.0->tensorflow) (0.15.0)\n",
            "Requirement already satisfied: charset-normalizer<4,>=2 in /usr/local/lib/python3.11/dist-packages (from requests<3,>=2.21.0->tensorflow) (3.4.2)\n",
            "Requirement already satisfied: idna<4,>=2.5 in /usr/local/lib/python3.11/dist-packages (from requests<3,>=2.21.0->tensorflow) (3.10)\n",
            "Requirement already satisfied: urllib3<3,>=1.21.1 in /usr/local/lib/python3.11/dist-packages (from requests<3,>=2.21.0->tensorflow) (2.4.0)\n",
            "Requirement already satisfied: certifi>=2017.4.17 in /usr/local/lib/python3.11/dist-packages (from requests<3,>=2.21.0->tensorflow) (2025.4.26)\n",
            "Requirement already satisfied: markdown>=2.6.8 in /usr/local/lib/python3.11/dist-packages (from tensorboard<2.19,>=2.18->tensorflow) (3.8)\n",
            "Requirement already satisfied: tensorboard-data-server<0.8.0,>=0.7.0 in /usr/local/lib/python3.11/dist-packages (from tensorboard<2.19,>=2.18->tensorflow) (0.7.2)\n",
            "Requirement already satisfied: werkzeug>=1.0.1 in /usr/local/lib/python3.11/dist-packages (from tensorboard<2.19,>=2.18->tensorflow) (3.1.3)\n",
            "Requirement already satisfied: MarkupSafe>=2.1.1 in /usr/local/lib/python3.11/dist-packages (from werkzeug>=1.0.1->tensorboard<2.19,>=2.18->tensorflow) (3.0.2)\n",
            "Requirement already satisfied: markdown-it-py>=2.2.0 in /usr/local/lib/python3.11/dist-packages (from rich->keras>=3.5.0->tensorflow) (3.0.0)\n",
            "Requirement already satisfied: pygments<3.0.0,>=2.13.0 in /usr/local/lib/python3.11/dist-packages (from rich->keras>=3.5.0->tensorflow) (2.19.1)\n",
            "Requirement already satisfied: mdurl~=0.1 in /usr/local/lib/python3.11/dist-packages (from markdown-it-py>=2.2.0->rich->keras>=3.5.0->tensorflow) (0.1.2)\n",
            "Collecting efficientnet\n",
            "  Downloading efficientnet-1.1.1-py3-none-any.whl.metadata (6.4 kB)\n",
            "Collecting keras-applications<=1.0.8,>=1.0.7 (from efficientnet)\n",
            "  Downloading Keras_Applications-1.0.8-py3-none-any.whl.metadata (1.7 kB)\n",
            "Requirement already satisfied: scikit-image in /usr/local/lib/python3.11/dist-packages (from efficientnet) (0.25.2)\n",
            "Requirement already satisfied: numpy>=1.9.1 in /usr/local/lib/python3.11/dist-packages (from keras-applications<=1.0.8,>=1.0.7->efficientnet) (2.0.2)\n",
            "Requirement already satisfied: h5py in /usr/local/lib/python3.11/dist-packages (from keras-applications<=1.0.8,>=1.0.7->efficientnet) (3.13.0)\n",
            "Requirement already satisfied: scipy>=1.11.4 in /usr/local/lib/python3.11/dist-packages (from scikit-image->efficientnet) (1.15.3)\n",
            "Requirement already satisfied: networkx>=3.0 in /usr/local/lib/python3.11/dist-packages (from scikit-image->efficientnet) (3.4.2)\n",
            "Requirement already satisfied: pillow>=10.1 in /usr/local/lib/python3.11/dist-packages (from scikit-image->efficientnet) (11.2.1)\n",
            "Requirement already satisfied: imageio!=2.35.0,>=2.33 in /usr/local/lib/python3.11/dist-packages (from scikit-image->efficientnet) (2.37.0)\n",
            "Requirement already satisfied: tifffile>=2022.8.12 in /usr/local/lib/python3.11/dist-packages (from scikit-image->efficientnet) (2025.5.21)\n",
            "Requirement already satisfied: packaging>=21 in /usr/local/lib/python3.11/dist-packages (from scikit-image->efficientnet) (24.2)\n",
            "Requirement already satisfied: lazy-loader>=0.4 in /usr/local/lib/python3.11/dist-packages (from scikit-image->efficientnet) (0.4)\n",
            "Downloading efficientnet-1.1.1-py3-none-any.whl (18 kB)\n",
            "Downloading Keras_Applications-1.0.8-py3-none-any.whl (50 kB)\n",
            "\u001b[2K   \u001b[90m━━━━━━━━━━━━━━━━━━━━━━━━━━━━━━━━━━━━━━━━\u001b[0m \u001b[32m50.7/50.7 kB\u001b[0m \u001b[31m3.1 MB/s\u001b[0m eta \u001b[36m0:00:00\u001b[0m\n",
            "\u001b[?25hInstalling collected packages: keras-applications, efficientnet\n",
            "Successfully installed efficientnet-1.1.1 keras-applications-1.0.8\n"
          ]
        }
      ],
      "source": [
        "!pip install opencv-python\n",
        "!pip install tensorflow\n",
        "!pip install efficientnet"
      ]
    },
    {
      "cell_type": "code",
      "execution_count": null,
      "metadata": {
        "colab": {
          "base_uri": "https://localhost:8080/"
        },
        "id": "YPbyat_xhJDk",
        "outputId": "656bef4f-f8c9-4c1f-f026-e70138e89019"
      },
      "outputs": [
        {
          "output_type": "stream",
          "name": "stdout",
          "text": [
            "Cloning into 'HairTextureClassification'...\n",
            "remote: Enumerating objects: 30866, done.\u001b[K\n",
            "remote: Counting objects: 100% (31/31), done.\u001b[K\n",
            "remote: Compressing objects: 100% (26/26), done.\u001b[K\n",
            "remote: Total 30866 (delta 16), reused 5 (delta 5), pack-reused 30835 (from 4)\u001b[K\n",
            "Receiving objects: 100% (30866/30866), 824.43 MiB | 24.90 MiB/s, done.\n",
            "Resolving deltas: 100% (62/62), done.\n",
            "Updating files: 100% (16607/16607), done.\n"
          ]
        }
      ],
      "source": [
        "!rm -rf ./HairTextureClassification\n",
        "!git clone https://github.com/CarmenTheodoraCraciun/HairTextureClassification.git"
      ]
    },
    {
      "cell_type": "code",
      "execution_count": null,
      "metadata": {
        "id": "CyJKhhiIhKlo"
      },
      "outputs": [],
      "source": [
        "import os\n",
        "import cv2\n",
        "import shutil\n",
        "import gc\n",
        "import numpy as np\n",
        "import pandas as pd\n",
        "import matplotlib.pyplot as plt\n",
        "import seaborn as sns\n",
        "from collections import Counter\n",
        "import tensorflow as tf\n",
        "from tensorflow.keras import mixed_precision\n",
        "from tensorflow.keras.models import Sequential\n",
        "from tensorflow.keras.layers import Input, Flatten, Dense, Dropout, Conv2D, MaxPooling2D, GlobalAveragePooling2D\n",
        "from tensorflow.keras.preprocessing.image import ImageDataGenerator\n",
        "from tensorflow.keras.utils import to_categorical\n",
        "from tensorflow.keras.applications import EfficientNetB0\n",
        "from tensorflow.keras.regularizers import l2\n",
        "from keras.optimizers import Adam, SGD, AdamW, RMSprop\n",
        "from keras.callbacks import EarlyStopping, ReduceLROnPlateau, LearningRateScheduler, ReduceLROnPlateau\n",
        "from keras.layers import LeakyReLU, BatchNormalization, AveragePooling2D\n",
        "from keras.optimizers.schedules import ExponentialDecay, PolynomialDecay\n",
        "from sklearn.model_selection import train_test_split\n",
        "from sklearn.preprocessing import LabelEncoder, StandardScaler\n",
        "from sklearn.metrics import classification_report, confusion_matrix, accuracy_score\n",
        "from sklearn.utils.class_weight import compute_class_weight"
      ]
    },
    {
      "cell_type": "markdown",
      "metadata": {
        "id": "qBgChAgbhSHI"
      },
      "source": [
        "##Optimizing the training environment and leaning up the TensorFlow session\n",
        "\n",
        "* Enabling mixed precision for optimal performance on the GPU\n",
        "* To avoid memory issues"
      ]
    },
    {
      "cell_type": "code",
      "execution_count": null,
      "metadata": {
        "colab": {
          "base_uri": "https://localhost:8080/"
        },
        "id": "ayw53G1fhPgc",
        "outputId": "7a45489a-85a4-464e-f588-7785d8d9f9b1"
      },
      "outputs": [
        {
          "output_type": "stream",
          "name": "stdout",
          "text": [
            "Garbage collector freed 0 unreachable objects.\n"
          ]
        }
      ],
      "source": [
        "mixed_precision.set_global_policy('mixed_float16')\n",
        "tf.keras.backend.clear_session()\n",
        "collected = gc.collect()\n",
        "print(f\"Garbage collector freed {collected} unreachable objects.\")"
      ]
    },
    {
      "cell_type": "markdown",
      "metadata": {
        "id": "1fwUW_Muhjm2"
      },
      "source": [
        "#Loading data"
      ]
    },
    {
      "cell_type": "code",
      "execution_count": null,
      "metadata": {
        "id": "NPtaM43Lhk-A"
      },
      "outputs": [],
      "source": [
        "def load_images_and_labels(input_dir, size=(96, 96)):\n",
        "    images = []\n",
        "    labels = []\n",
        "    invalid_images = []\n",
        "\n",
        "    for category in os.listdir(input_dir):\n",
        "        category_dir = os.path.join(input_dir, category)\n",
        "        if os.path.isdir(category_dir):\n",
        "            for img_name in os.listdir(category_dir):\n",
        "                img_path = os.path.join(category_dir, img_name)\n",
        "                img = cv2.imread(img_path)\n",
        "                if img is not None:\n",
        "                    img = cv2.resize(img, size, interpolation=cv2.INTER_LINEAR)\n",
        "                    images.append(img)\n",
        "                    labels.append(category)\n",
        "\n",
        "                    if img.shape[:2] != (96, 96):\n",
        "                        invalid_images.append((img_name, img.shape[:2]))\n",
        "\n",
        "    if invalid_images:\n",
        "        print(\"Warning: Some images are not 96x96!\")\n",
        "        for img_name, shape in invalid_images:\n",
        "            print(f\" {img_name} has size {shape}\")\n",
        "\n",
        "    return np.array(images), np.array(labels)"
      ]
    },
    {
      "cell_type": "code",
      "execution_count": null,
      "metadata": {
        "id": "G_je5wkFhmfK"
      },
      "outputs": [],
      "source": [
        "images, labels = load_images_and_labels('./HairTextureClassification/processData')"
      ]
    },
    {
      "cell_type": "markdown",
      "metadata": {
        "id": "G5M7IabChn6R"
      },
      "source": [
        "##Normalized images"
      ]
    },
    {
      "cell_type": "code",
      "execution_count": null,
      "metadata": {
        "id": "Ieaa9Rywho74"
      },
      "outputs": [],
      "source": [
        "images = images.astype('float32') / 255.0\n",
        "assert images.shape[1:] == (96, 96, 3), f\"Error: Some images are not 96x96! Found {images.shape[1:]}\""
      ]
    },
    {
      "cell_type": "markdown",
      "metadata": {
        "id": "89bVaqBkhtcE"
      },
      "source": [
        "##One-hot Encoding\n",
        "\n",
        "* One-hot encoding is a technique used to convert categorical data into a numeric format that a machine learning model can understand\n",
        "  * e.g. [0,0,0,1,0] means that the hair is straight."
      ]
    },
    {
      "cell_type": "code",
      "execution_count": null,
      "metadata": {
        "colab": {
          "base_uri": "https://localhost:8080/"
        },
        "id": "sX3y5EUwhwe4",
        "outputId": "050550fa-be5f-4e2e-d838-ef68c0a832bf"
      },
      "outputs": [
        {
          "output_type": "stream",
          "name": "stdout",
          "text": [
            "Encoded labels shape: (12980, 5)\n",
            "Example labels (first 5):\n",
            "[[0. 0. 0. 1. 0.]\n",
            " [0. 0. 0. 1. 0.]\n",
            " [0. 0. 0. 1. 0.]\n",
            " [0. 0. 0. 1. 0.]\n",
            " [0. 0. 0. 1. 0.]]\n"
          ]
        }
      ],
      "source": [
        "# Convert labels to numeric format\n",
        "label_encoder = LabelEncoder()\n",
        "labels_encoded = label_encoder.fit_transform(labels)\n",
        "\n",
        "# Convert labels to one-hot format\n",
        "labels_categorical = to_categorical(labels_encoded).astype('float32')\n",
        "\n",
        "print(f\"Encoded labels shape: {labels_categorical.shape}\")\n",
        "print(f\"Example labels (first 5):\\n{labels_categorical[:5]}\")"
      ]
    },
    {
      "cell_type": "markdown",
      "metadata": {
        "id": "85U1GNRnh07Y"
      },
      "source": [
        "##Split data"
      ]
    },
    {
      "cell_type": "code",
      "execution_count": null,
      "metadata": {
        "colab": {
          "base_uri": "https://localhost:8080/"
        },
        "id": "gV7u_5nOib80",
        "outputId": "c42af721-e83c-4185-bbc6-e1043f3119cc"
      },
      "outputs": [
        {
          "output_type": "stream",
          "name": "stdout",
          "text": [
            "Train generator: 163 batches, Total images: 10384\n",
            "Validation generator: 41 batches, Total images: 2596\n"
          ]
        }
      ],
      "source": [
        "datagen = ImageDataGenerator()\n",
        "\n",
        "X_train, X_val, y_train, y_val = train_test_split(images, labels_categorical, test_size=0.2, random_state=42)\n",
        "\n",
        "assert X_train.shape[1:] == (96, 96, 3), f\"Error: X_train images are not 96x96! Found {X_train.shape[1:]}\"\n",
        "assert X_val.shape[1:] == (96, 96, 3), f\"Error: X_val images are not 96x96! Found {X_val.shape[1:]}\"\n",
        "\n",
        "# The data generator\n",
        "# train_generator = datagen.flow(X_train, y_train, batch_size=64, shuffle=True)\n",
        "# validation_generator = datagen.flow(X_val, y_val, batch_size=64)\n",
        "train_generator = datagen.flow(X_train, y_train, batch_size=32, shuffle=True)\n",
        "validation_generator = datagen.flow(X_val, y_val, batch_size=32)\n",
        "\n",
        "\n",
        "# Calculating steps per epoch\n",
        "steps_per_epoch = np.ceil(len(X_train) / 64).astype(int)\n",
        "validation_steps = np.ceil(len(X_val) / 64).astype(int)\n",
        "\n",
        "print(f\"Train generator: {steps_per_epoch} batches, Total images: {len(X_train)}\")\n",
        "print(f\"Validation generator: {validation_steps} batches, Total images: {len(X_val)}\")"
      ]
    },
    {
      "cell_type": "code",
      "execution_count": null,
      "metadata": {
        "colab": {
          "base_uri": "https://localhost:8080/"
        },
        "id": "vjSBdGxaiddu",
        "outputId": "0794f759-7838-4e45-81cc-51db3ee06f84"
      },
      "outputs": [
        {
          "output_type": "stream",
          "name": "stdout",
          "text": [
            "Counter({np.str_('curly'): 4120, np.str_('dreadlocks'): 2335, np.str_('wavy'): 2317, np.str_('straight'): 2120, np.str_('kinky'): 2088})\n"
          ]
        }
      ],
      "source": [
        "print(Counter(labels))"
      ]
    },
    {
      "cell_type": "markdown",
      "metadata": {
        "id": "PxdKy_JdiwR7"
      },
      "source": [
        "#Model evaluation"
      ]
    },
    {
      "cell_type": "code",
      "execution_count": null,
      "metadata": {
        "id": "ScD1KsOFizDj"
      },
      "outputs": [],
      "source": [
        "def evaluate_model(model, history, X_val, y_val, label_encoder,y_pred_prob):\n",
        "    \"\"\"Evaluates the model on raw validation data.\"\"\"\n",
        "\n",
        "    # Calculează acuratețea\n",
        "    y_pred = np.argmax(y_pred_prob, axis=1)\n",
        "    accuracy = accuracy_score(np.argmax(y_val, axis=1), y_pred)\n",
        "    print(f\"Test accuracy: {accuracy:.4f}\")\n",
        "\n",
        "    # Classification report\n",
        "    report = classification_report(np.argmax(y_val, axis=1), y_pred, target_names=label_encoder.classes_)\n",
        "    print(\"Classification Report:\\n\", report)\n",
        "\n",
        "    # Confusion matrix\n",
        "    conf_matrix = confusion_matrix(np.argmax(y_val, axis=1), y_pred)\n",
        "    conf_df = pd.DataFrame(conf_matrix, index=label_encoder.classes_, columns=label_encoder.classes_)\n",
        "\n",
        "    # Afișează matricea de confuzie\n",
        "    plt.figure(figsize=(10, 7))\n",
        "    sns.heatmap(conf_df, annot=True, cmap=\"Blues\", fmt=\"d\")\n",
        "    plt.title(\"Confusion Matrix\")\n",
        "    plt.ylabel(\"Real Classes\")\n",
        "    plt.xlabel(\"Predicted Classes\")\n",
        "    plt.show()\n",
        "\n",
        "    for i in range(5):\n",
        "      print(np.round(y_pred_prob[i], 2), \"→\", label_encoder.classes_[np.argmax(y_pred_prob[i])])\n",
        "\n",
        "    ds = tf.data.Dataset.from_tensor_slices((X_val, y_val))\n",
        "    for image, label in ds.take(1):\n",
        "      print(image.shape, label)"
      ]
    },
    {
      "cell_type": "markdown",
      "metadata": {
        "id": "BAELTZ4Cj5UB"
      },
      "source": [
        "#Building the MLP\n",
        "\n",
        "A **Multi-Layer Perceptron (MLP)** is a type of Feedforward Neural Network that has one or more hidden layers between input and output layers.\n",
        "\n",
        "Key Points:\n",
        "* **Multiple layers**: Input → Hidden layer(s) → Output\n",
        "* Non-linear activation functions (e.g., ReLU, sigmoid) allow it to model complex patterns.\n",
        "* Trained with backpropagation."
      ]
    },
    {
      "cell_type": "markdown",
      "source": [
        "##Best variant"
      ],
      "metadata": {
        "id": "9eVVA-ckIYGk"
      }
    },
    {
      "cell_type": "code",
      "source": [
        "mlp_model = Sequential([\n",
        "    Conv2D(32, (3, 3), activation='relu', input_shape=(96, 96, 3)),\n",
        "    BatchNormalization(),\n",
        "    MaxPooling2D(pool_size=(2, 2)),\n",
        "    Conv2D(64, (3, 3), activation='relu'),\n",
        "    BatchNormalization(),\n",
        "    MaxPooling2D(pool_size=(2, 2)),\n",
        "    Conv2D(128, (3, 3), activation='relu'),\n",
        "    BatchNormalization(),\n",
        "    MaxPooling2D(pool_size=(2, 2)),\n",
        "    GlobalAveragePooling2D(),\n",
        "    Dense(1024, activation='relu'),\n",
        "    BatchNormalization(),\n",
        "    Dropout(0.3),\n",
        "    Dense(512, activation='relu'),\n",
        "    BatchNormalization(),\n",
        "    Dropout(0.2),\n",
        "    Dense(256, activation='relu'),\n",
        "    BatchNormalization(),\n",
        "    Dropout(0.1),\n",
        "    Dense(len(label_encoder.classes_), activation='softmax')\n",
        "])\n",
        "\n",
        "optimizer = RMSprop(learning_rate=0.001, rho=0.9)\n",
        "\n",
        "mlp_model.compile(optimizer=optimizer, loss='categorical_crossentropy', metrics=['accuracy'])\n",
        "\n",
        "early_stopping = EarlyStopping(monitor='val_loss', patience=7, restore_best_weights=True)\n",
        "\n",
        "reduce_lr = ReduceLROnPlateau(monitor='val_loss', factor=0.5, patience=5, min_lr=1e-6)\n",
        "\n",
        "history_mlp = mlp_model.fit(\n",
        "    train_generator,\n",
        "    epochs=50,\n",
        "    validation_data=validation_generator,\n",
        "    steps_per_epoch=steps_per_epoch,\n",
        "    validation_steps=validation_steps,\n",
        "    callbacks=[early_stopping, reduce_lr]\n",
        ")"
      ],
      "metadata": {
        "colab": {
          "base_uri": "https://localhost:8080/"
        },
        "id": "fJ4l2AfzIZRt",
        "outputId": "801fb1e7-e7e2-4527-cb2b-5532182aad1a"
      },
      "execution_count": null,
      "outputs": [
        {
          "output_type": "stream",
          "name": "stdout",
          "text": [
            "Epoch 1/50\n"
          ]
        },
        {
          "output_type": "stream",
          "name": "stderr",
          "text": [
            "/usr/local/lib/python3.11/dist-packages/keras/src/layers/convolutional/base_conv.py:107: UserWarning: Do not pass an `input_shape`/`input_dim` argument to a layer. When using Sequential models, prefer using an `Input(shape)` object as the first layer in the model instead.\n",
            "  super().__init__(activity_regularizer=activity_regularizer, **kwargs)\n"
          ]
        },
        {
          "output_type": "stream",
          "name": "stdout",
          "text": [
            "\u001b[1m163/163\u001b[0m \u001b[32m━━━━━━━━━━━━━━━━━━━━\u001b[0m\u001b[37m\u001b[0m \u001b[1m145s\u001b[0m 864ms/step - accuracy: 0.2871 - loss: 1.9789 - val_accuracy: 0.3255 - val_loss: 1.7923 - learning_rate: 0.0010\n",
            "Epoch 2/50\n",
            "\u001b[1m162/163\u001b[0m \u001b[32m━━━━━━━━━━━━━━━━━━━\u001b[0m\u001b[37m━\u001b[0m \u001b[1m0s\u001b[0m 814ms/step - accuracy: 0.3934 - loss: 1.4862"
          ]
        },
        {
          "output_type": "stream",
          "name": "stderr",
          "text": [
            "/usr/local/lib/python3.11/dist-packages/keras/src/trainers/epoch_iterator.py:107: UserWarning: Your input ran out of data; interrupting training. Make sure that your dataset or generator can generate at least `steps_per_epoch * epochs` batches. You may need to use the `.repeat()` function when building your dataset.\n",
            "  self._interrupted_warning()\n"
          ]
        },
        {
          "output_type": "stream",
          "name": "stdout",
          "text": [
            "\b\b\b\b\b\b\b\b\b\b\b\b\b\b\b\b\b\b\b\b\b\b\b\b\b\b\b\b\b\b\b\b\b\b\b\b\b\b\b\b\b\b\b\b\b\b\b\b\b\b\b\b\b\b\b\b\b\b\b\b\b\b\b\b\b\b\b\b\b\b\b\b\b\b\b\b\r\u001b[1m163/163\u001b[0m \u001b[32m━━━━━━━━━━━━━━━━━━━━\u001b[0m\u001b[37m\u001b[0m \u001b[1m143s\u001b[0m 881ms/step - accuracy: 0.3935 - loss: 1.4858 - val_accuracy: 0.1997 - val_loss: 2.2405 - learning_rate: 0.0010\n",
            "Epoch 3/50\n",
            "\u001b[1m163/163\u001b[0m \u001b[32m━━━━━━━━━━━━━━━━━━━━\u001b[0m\u001b[37m\u001b[0m \u001b[1m201s\u001b[0m 1s/step - accuracy: 0.5064 - loss: 1.2319 - val_accuracy: 0.2637 - val_loss: 2.9646 - learning_rate: 0.0010\n",
            "Epoch 4/50\n",
            "\u001b[1m163/163\u001b[0m \u001b[32m━━━━━━━━━━━━━━━━━━━━\u001b[0m\u001b[37m\u001b[0m \u001b[1m142s\u001b[0m 872ms/step - accuracy: 0.5825 - loss: 1.0892 - val_accuracy: 0.3857 - val_loss: 2.4768 - learning_rate: 0.0010\n",
            "Epoch 5/50\n",
            "\u001b[1m163/163\u001b[0m \u001b[32m━━━━━━━━━━━━━━━━━━━━\u001b[0m\u001b[37m\u001b[0m \u001b[1m142s\u001b[0m 867ms/step - accuracy: 0.6256 - loss: 0.9653 - val_accuracy: 0.4527 - val_loss: 1.3793 - learning_rate: 0.0010\n",
            "Epoch 6/50\n",
            "\u001b[1m163/163\u001b[0m \u001b[32m━━━━━━━━━━━━━━━━━━━━\u001b[0m\u001b[37m\u001b[0m \u001b[1m141s\u001b[0m 863ms/step - accuracy: 0.6442 - loss: 0.8948 - val_accuracy: 0.5556 - val_loss: 1.2427 - learning_rate: 0.0010\n",
            "Epoch 7/50\n",
            "\u001b[1m163/163\u001b[0m \u001b[32m━━━━━━━━━━━━━━━━━━━━\u001b[0m\u001b[37m\u001b[0m \u001b[1m203s\u001b[0m 1s/step - accuracy: 0.6978 - loss: 0.7995 - val_accuracy: 0.6090 - val_loss: 1.1317 - learning_rate: 0.0010\n",
            "Epoch 8/50\n",
            "\u001b[1m163/163\u001b[0m \u001b[32m━━━━━━━━━━━━━━━━━━━━\u001b[0m\u001b[37m\u001b[0m \u001b[1m141s\u001b[0m 864ms/step - accuracy: 0.7219 - loss: 0.7397 - val_accuracy: 0.4588 - val_loss: 1.9374 - learning_rate: 0.0010\n",
            "Epoch 9/50\n",
            "\u001b[1m163/163\u001b[0m \u001b[32m━━━━━━━━━━━━━━━━━━━━\u001b[0m\u001b[37m\u001b[0m \u001b[1m143s\u001b[0m 881ms/step - accuracy: 0.7349 - loss: 0.6995 - val_accuracy: 0.5983 - val_loss: 1.2155 - learning_rate: 0.0010\n",
            "Epoch 10/50\n",
            "\u001b[1m163/163\u001b[0m \u001b[32m━━━━━━━━━━━━━━━━━━━━\u001b[0m\u001b[37m\u001b[0m \u001b[1m141s\u001b[0m 863ms/step - accuracy: 0.7708 - loss: 0.6086 - val_accuracy: 0.5892 - val_loss: 1.1938 - learning_rate: 0.0010\n",
            "Epoch 11/50\n",
            "\u001b[1m163/163\u001b[0m \u001b[32m━━━━━━━━━━━━━━━━━━━━\u001b[0m\u001b[37m\u001b[0m \u001b[1m203s\u001b[0m 1s/step - accuracy: 0.7717 - loss: 0.5941 - val_accuracy: 0.5450 - val_loss: 1.2858 - learning_rate: 0.0010\n",
            "Epoch 12/50\n",
            "\u001b[1m163/163\u001b[0m \u001b[32m━━━━━━━━━━━━━━━━━━━━\u001b[0m\u001b[37m\u001b[0m \u001b[1m145s\u001b[0m 892ms/step - accuracy: 0.7978 - loss: 0.5344 - val_accuracy: 0.6905 - val_loss: 0.8830 - learning_rate: 0.0010\n",
            "Epoch 13/50\n",
            "\u001b[1m163/163\u001b[0m \u001b[32m━━━━━━━━━━━━━━━━━━━━\u001b[0m\u001b[37m\u001b[0m \u001b[1m204s\u001b[0m 1s/step - accuracy: 0.7949 - loss: 0.5459 - val_accuracy: 0.6753 - val_loss: 0.8887 - learning_rate: 0.0010\n",
            "Epoch 14/50\n",
            "\u001b[1m163/163\u001b[0m \u001b[32m━━━━━━━━━━━━━━━━━━━━\u001b[0m\u001b[37m\u001b[0m \u001b[1m140s\u001b[0m 860ms/step - accuracy: 0.8118 - loss: 0.4940 - val_accuracy: 0.6959 - val_loss: 0.9221 - learning_rate: 0.0010\n",
            "Epoch 15/50\n",
            "\u001b[1m163/163\u001b[0m \u001b[32m━━━━━━━━━━━━━━━━━━━━\u001b[0m\u001b[37m\u001b[0m \u001b[1m179s\u001b[0m 863ms/step - accuracy: 0.8346 - loss: 0.4365 - val_accuracy: 0.5869 - val_loss: 1.5700 - learning_rate: 0.0010\n",
            "Epoch 16/50\n",
            "\u001b[1m163/163\u001b[0m \u001b[32m━━━━━━━━━━━━━━━━━━━━\u001b[0m\u001b[37m\u001b[0m \u001b[1m138s\u001b[0m 845ms/step - accuracy: 0.8489 - loss: 0.4157 - val_accuracy: 0.5831 - val_loss: 1.4184 - learning_rate: 0.0010\n",
            "Epoch 17/50\n",
            "\u001b[1m163/163\u001b[0m \u001b[32m━━━━━━━━━━━━━━━━━━━━\u001b[0m\u001b[37m\u001b[0m \u001b[1m202s\u001b[0m 977ms/step - accuracy: 0.8512 - loss: 0.3950 - val_accuracy: 0.5838 - val_loss: 1.4454 - learning_rate: 0.0010\n",
            "Epoch 18/50\n",
            "\u001b[1m163/163\u001b[0m \u001b[32m━━━━━━━━━━━━━━━━━━━━\u001b[0m\u001b[37m\u001b[0m \u001b[1m139s\u001b[0m 853ms/step - accuracy: 0.8792 - loss: 0.3229 - val_accuracy: 0.6380 - val_loss: 1.3306 - learning_rate: 5.0000e-04\n",
            "Epoch 19/50\n",
            "\u001b[1m163/163\u001b[0m \u001b[32m━━━━━━━━━━━━━━━━━━━━\u001b[0m\u001b[37m\u001b[0m \u001b[1m204s\u001b[0m 1s/step - accuracy: 0.9082 - loss: 0.2477 - val_accuracy: 0.8178 - val_loss: 0.5151 - learning_rate: 5.0000e-04\n",
            "Epoch 20/50\n",
            "\u001b[1m163/163\u001b[0m \u001b[32m━━━━━━━━━━━━━━━━━━━━\u001b[0m\u001b[37m\u001b[0m \u001b[1m135s\u001b[0m 832ms/step - accuracy: 0.9085 - loss: 0.2454 - val_accuracy: 0.8087 - val_loss: 0.5345 - learning_rate: 5.0000e-04\n",
            "Epoch 21/50\n",
            "\u001b[1m163/163\u001b[0m \u001b[32m━━━━━━━━━━━━━━━━━━━━\u001b[0m\u001b[37m\u001b[0m \u001b[1m144s\u001b[0m 840ms/step - accuracy: 0.9331 - loss: 0.1999 - val_accuracy: 0.8178 - val_loss: 0.5057 - learning_rate: 5.0000e-04\n",
            "Epoch 22/50\n",
            "\u001b[1m163/163\u001b[0m \u001b[32m━━━━━━━━━━━━━━━━━━━━\u001b[0m\u001b[37m\u001b[0m \u001b[1m143s\u001b[0m 881ms/step - accuracy: 0.9259 - loss: 0.2023 - val_accuracy: 0.8331 - val_loss: 0.5188 - learning_rate: 5.0000e-04\n",
            "Epoch 23/50\n",
            "\u001b[1m163/163\u001b[0m \u001b[32m━━━━━━━━━━━━━━━━━━━━\u001b[0m\u001b[37m\u001b[0m \u001b[1m138s\u001b[0m 845ms/step - accuracy: 0.9376 - loss: 0.1709 - val_accuracy: 0.8125 - val_loss: 0.5774 - learning_rate: 5.0000e-04\n",
            "Epoch 24/50\n",
            "\u001b[1m163/163\u001b[0m \u001b[32m━━━━━━━━━━━━━━━━━━━━\u001b[0m\u001b[37m\u001b[0m \u001b[1m136s\u001b[0m 836ms/step - accuracy: 0.9308 - loss: 0.1845 - val_accuracy: 0.8026 - val_loss: 0.6062 - learning_rate: 5.0000e-04\n",
            "Epoch 25/50\n",
            "\u001b[1m163/163\u001b[0m \u001b[32m━━━━━━━━━━━━━━━━━━━━\u001b[0m\u001b[37m\u001b[0m \u001b[1m137s\u001b[0m 840ms/step - accuracy: 0.9416 - loss: 0.1768 - val_accuracy: 0.7873 - val_loss: 0.7319 - learning_rate: 5.0000e-04\n",
            "Epoch 26/50\n",
            "\u001b[1m163/163\u001b[0m \u001b[32m━━━━━━━━━━━━━━━━━━━━\u001b[0m\u001b[37m\u001b[0m \u001b[1m140s\u001b[0m 862ms/step - accuracy: 0.9482 - loss: 0.1404 - val_accuracy: 0.8201 - val_loss: 0.5646 - learning_rate: 5.0000e-04\n",
            "Epoch 27/50\n",
            "\u001b[1m163/163\u001b[0m \u001b[32m━━━━━━━━━━━━━━━━━━━━\u001b[0m\u001b[37m\u001b[0m \u001b[1m204s\u001b[0m 975ms/step - accuracy: 0.9578 - loss: 0.1196 - val_accuracy: 0.8735 - val_loss: 0.4017 - learning_rate: 2.5000e-04\n",
            "Epoch 28/50\n",
            "\u001b[1m163/163\u001b[0m \u001b[32m━━━━━━━━━━━━━━━━━━━━\u001b[0m\u001b[37m\u001b[0m \u001b[1m140s\u001b[0m 862ms/step - accuracy: 0.9601 - loss: 0.1068 - val_accuracy: 0.8552 - val_loss: 0.4569 - learning_rate: 2.5000e-04\n",
            "Epoch 29/50\n",
            "\u001b[1m163/163\u001b[0m \u001b[32m━━━━━━━━━━━━━━━━━━━━\u001b[0m\u001b[37m\u001b[0m \u001b[1m143s\u001b[0m 880ms/step - accuracy: 0.9655 - loss: 0.0930 - val_accuracy: 0.8674 - val_loss: 0.4240 - learning_rate: 2.5000e-04\n",
            "Epoch 30/50\n",
            "\u001b[1m163/163\u001b[0m \u001b[32m━━━━━━━━━━━━━━━━━━━━\u001b[0m\u001b[37m\u001b[0m \u001b[1m134s\u001b[0m 822ms/step - accuracy: 0.9743 - loss: 0.0799 - val_accuracy: 0.8758 - val_loss: 0.4002 - learning_rate: 2.5000e-04\n",
            "Epoch 31/50\n",
            "\u001b[1m163/163\u001b[0m \u001b[32m━━━━━━━━━━━━━━━━━━━━\u001b[0m\u001b[37m\u001b[0m \u001b[1m143s\u001b[0m 874ms/step - accuracy: 0.9699 - loss: 0.0801 - val_accuracy: 0.8133 - val_loss: 0.6605 - learning_rate: 2.5000e-04\n",
            "Epoch 32/50\n",
            "\u001b[1m163/163\u001b[0m \u001b[32m━━━━━━━━━━━━━━━━━━━━\u001b[0m\u001b[37m\u001b[0m \u001b[1m140s\u001b[0m 862ms/step - accuracy: 0.9726 - loss: 0.0798 - val_accuracy: 0.8788 - val_loss: 0.3842 - learning_rate: 2.5000e-04\n",
            "Epoch 33/50\n",
            "\u001b[1m163/163\u001b[0m \u001b[32m━━━━━━━━━━━━━━━━━━━━\u001b[0m\u001b[37m\u001b[0m \u001b[1m136s\u001b[0m 833ms/step - accuracy: 0.9775 - loss: 0.0682 - val_accuracy: 0.8773 - val_loss: 0.4096 - learning_rate: 2.5000e-04\n",
            "Epoch 34/50\n",
            "\u001b[1m163/163\u001b[0m \u001b[32m━━━━━━━━━━━━━━━━━━━━\u001b[0m\u001b[37m\u001b[0m \u001b[1m143s\u001b[0m 881ms/step - accuracy: 0.9693 - loss: 0.0819 - val_accuracy: 0.8529 - val_loss: 0.4555 - learning_rate: 2.5000e-04\n",
            "Epoch 35/50\n",
            "\u001b[1m163/163\u001b[0m \u001b[32m━━━━━━━━━━━━━━━━━━━━\u001b[0m\u001b[37m\u001b[0m \u001b[1m201s\u001b[0m 971ms/step - accuracy: 0.9734 - loss: 0.0756 - val_accuracy: 0.8544 - val_loss: 0.5633 - learning_rate: 2.5000e-04\n",
            "Epoch 36/50\n",
            "\u001b[1m163/163\u001b[0m \u001b[32m━━━━━━━━━━━━━━━━━━━━\u001b[0m\u001b[37m\u001b[0m \u001b[1m143s\u001b[0m 879ms/step - accuracy: 0.9777 - loss: 0.0645 - val_accuracy: 0.8171 - val_loss: 0.6813 - learning_rate: 2.5000e-04\n",
            "Epoch 37/50\n",
            "\u001b[1m163/163\u001b[0m \u001b[32m━━━━━━━━━━━━━━━━━━━━\u001b[0m\u001b[37m\u001b[0m \u001b[1m141s\u001b[0m 866ms/step - accuracy: 0.9747 - loss: 0.0776 - val_accuracy: 0.8803 - val_loss: 0.4144 - learning_rate: 2.5000e-04\n",
            "Epoch 38/50\n",
            "\u001b[1m163/163\u001b[0m \u001b[32m━━━━━━━━━━━━━━━━━━━━\u001b[0m\u001b[37m\u001b[0m \u001b[1m135s\u001b[0m 827ms/step - accuracy: 0.9794 - loss: 0.0635 - val_accuracy: 0.8948 - val_loss: 0.3576 - learning_rate: 1.2500e-04\n",
            "Epoch 39/50\n",
            "\u001b[1m163/163\u001b[0m \u001b[32m━━━━━━━━━━━━━━━━━━━━\u001b[0m\u001b[37m\u001b[0m \u001b[1m181s\u001b[0m 830ms/step - accuracy: 0.9837 - loss: 0.0529 - val_accuracy: 0.8948 - val_loss: 0.3295 - learning_rate: 1.2500e-04\n",
            "Epoch 40/50\n",
            "\u001b[1m163/163\u001b[0m \u001b[32m━━━━━━━━━━━━━━━━━━━━\u001b[0m\u001b[37m\u001b[0m \u001b[1m141s\u001b[0m 864ms/step - accuracy: 0.9844 - loss: 0.0506 - val_accuracy: 0.8697 - val_loss: 0.4553 - learning_rate: 1.2500e-04\n",
            "Epoch 41/50\n",
            "\u001b[1m163/163\u001b[0m \u001b[32m━━━━━━━━━━━━━━━━━━━━\u001b[0m\u001b[37m\u001b[0m \u001b[1m203s\u001b[0m 966ms/step - accuracy: 0.9877 - loss: 0.0418 - val_accuracy: 0.8979 - val_loss: 0.3343 - learning_rate: 1.2500e-04\n",
            "Epoch 42/50\n",
            "\u001b[1m163/163\u001b[0m \u001b[32m━━━━━━━━━━━━━━━━━━━━\u001b[0m\u001b[37m\u001b[0m \u001b[1m141s\u001b[0m 863ms/step - accuracy: 0.9847 - loss: 0.0503 - val_accuracy: 0.9002 - val_loss: 0.3732 - learning_rate: 1.2500e-04\n",
            "Epoch 43/50\n",
            "\u001b[1m163/163\u001b[0m \u001b[32m━━━━━━━━━━━━━━━━━━━━\u001b[0m\u001b[37m\u001b[0m \u001b[1m203s\u001b[0m 1s/step - accuracy: 0.9796 - loss: 0.0481 - val_accuracy: 0.8765 - val_loss: 0.4326 - learning_rate: 1.2500e-04\n",
            "Epoch 44/50\n",
            "\u001b[1m163/163\u001b[0m \u001b[32m━━━━━━━━━━━━━━━━━━━━\u001b[0m\u001b[37m\u001b[0m \u001b[1m133s\u001b[0m 814ms/step - accuracy: 0.9861 - loss: 0.0396 - val_accuracy: 0.9078 - val_loss: 0.3306 - learning_rate: 1.2500e-04\n",
            "Epoch 45/50\n",
            "\u001b[1m163/163\u001b[0m \u001b[32m━━━━━━━━━━━━━━━━━━━━\u001b[0m\u001b[37m\u001b[0m \u001b[1m143s\u001b[0m 880ms/step - accuracy: 0.9875 - loss: 0.0354 - val_accuracy: 0.9139 - val_loss: 0.2925 - learning_rate: 6.2500e-05\n",
            "Epoch 46/50\n",
            "\u001b[1m163/163\u001b[0m \u001b[32m━━━━━━━━━━━━━━━━━━━━\u001b[0m\u001b[37m\u001b[0m \u001b[1m140s\u001b[0m 863ms/step - accuracy: 0.9890 - loss: 0.0321 - val_accuracy: 0.8880 - val_loss: 0.4165 - learning_rate: 6.2500e-05\n",
            "Epoch 47/50\n",
            "\u001b[1m163/163\u001b[0m \u001b[32m━━━━━━━━━━━━━━━━━━━━\u001b[0m\u001b[37m\u001b[0m \u001b[1m143s\u001b[0m 881ms/step - accuracy: 0.9888 - loss: 0.0329 - val_accuracy: 0.9024 - val_loss: 0.3304 - learning_rate: 6.2500e-05\n",
            "Epoch 48/50\n",
            "\u001b[1m163/163\u001b[0m \u001b[32m━━━━━━━━━━━━━━━━━━━━\u001b[0m\u001b[37m\u001b[0m \u001b[1m141s\u001b[0m 868ms/step - accuracy: 0.9920 - loss: 0.0254 - val_accuracy: 0.9009 - val_loss: 0.3559 - learning_rate: 6.2500e-05\n",
            "Epoch 49/50\n",
            "\u001b[1m163/163\u001b[0m \u001b[32m━━━━━━━━━━━━━━━━━━━━\u001b[0m\u001b[37m\u001b[0m \u001b[1m136s\u001b[0m 835ms/step - accuracy: 0.9902 - loss: 0.0302 - val_accuracy: 0.9047 - val_loss: 0.3387 - learning_rate: 6.2500e-05\n",
            "Epoch 50/50\n",
            "\u001b[1m163/163\u001b[0m \u001b[32m━━━━━━━━━━━━━━━━━━━━\u001b[0m\u001b[37m\u001b[0m \u001b[1m140s\u001b[0m 862ms/step - accuracy: 0.9916 - loss: 0.0226 - val_accuracy: 0.9131 - val_loss: 0.3072 - learning_rate: 6.2500e-05\n"
          ]
        }
      ]
    },
    {
      "cell_type": "code",
      "source": [
        "y_pred_prob_mlp = mlp_model.predict(X_val)\n",
        "y_pred_mlp = np.argmax(y_pred_prob_mlp, axis=1)\n",
        "\n",
        "evaluate_model(mlp_model, history_mlp, X_val, y_val, label_encoder,y_pred_prob_mlp)"
      ],
      "metadata": {
        "colab": {
          "base_uri": "https://localhost:8080/",
          "height": 1000
        },
        "id": "-y3mEwKhIj6a",
        "outputId": "ea12a340-a5f4-4780-99e3-308b2ba424a6"
      },
      "execution_count": null,
      "outputs": [
        {
          "output_type": "stream",
          "name": "stdout",
          "text": [
            "\u001b[1m82/82\u001b[0m \u001b[32m━━━━━━━━━━━━━━━━━━━━\u001b[0m\u001b[37m\u001b[0m \u001b[1m15s\u001b[0m 182ms/step\n",
            "Test accuracy: 0.9099\n",
            "Classification Report:\n",
            "               precision    recall  f1-score   support\n",
            "\n",
            "       curly       0.92      0.92      0.92       816\n",
            "  dreadlocks       0.95      0.90      0.92       473\n",
            "       kinky       0.90      0.94      0.92       438\n",
            "    straight       0.89      0.89      0.89       424\n",
            "        wavy       0.88      0.89      0.88       445\n",
            "\n",
            "    accuracy                           0.91      2596\n",
            "   macro avg       0.91      0.91      0.91      2596\n",
            "weighted avg       0.91      0.91      0.91      2596\n",
            "\n"
          ]
        },
        {
          "output_type": "display_data",
          "data": {
            "text/plain": [
              "<Figure size 1000x700 with 2 Axes>"
            ],
            "image/png": "[encoded data removed]"
          },
          "metadata": {}
        },
        {
          "output_type": "stream",
          "name": "stdout",
          "text": [
            "[0. 0. 0. 0. 1.] → wavy\n",
            "[0. 0. 0. 0. 1.] → wavy\n",
            "[0.08 0.   0.   0.01 0.91] → wavy\n",
            "[0.   0.   0.   0.92 0.08] → straight\n",
            "[0. 0. 1. 0. 0.] → kinky\n",
            "(96, 96, 3) tf.Tensor([0. 0. 0. 0. 1.], shape=(5,), dtype=float32)\n"
          ]
        }
      ]
    },
    {
      "cell_type": "markdown",
      "source": [
        "##Second best variant"
      ],
      "metadata": {
        "id": "OvSIYE26FwlF"
      }
    },
    {
      "cell_type": "code",
      "source": [
        "# Restore the CNN-based MLP model definition\n",
        "mlp_model = Sequential([\n",
        "    # Input layer for images\n",
        "    Conv2D(32, (3, 3), activation='relu', input_shape=(96, 96, 3)),\n",
        "    BatchNormalization(),\n",
        "    MaxPooling2D(pool_size=(2, 2)),\n",
        "\n",
        "    Conv2D(64, (3, 3), activation='relu'),\n",
        "    BatchNormalization(),\n",
        "    MaxPooling2D(pool_size=(2, 2)),\n",
        "\n",
        "    Conv2D(128, (3, 3), activation='relu'),\n",
        "    BatchNormalization(),\n",
        "    MaxPooling2D(pool_size=(2, 2)),\n",
        "\n",
        "    # Flatten the output from convolutional layers to feed into Dense layers\n",
        "    # GlobalAveragePooling2D() or Flatten() is needed here\n",
        "    GlobalAveragePooling2D(), # Using GlobalAveragePooling2D as in your previous successful attempts\n",
        "\n",
        "    # Dense layers for classification\n",
        "    Dense(1024, activation='relu'),\n",
        "    BatchNormalization(),\n",
        "    Dropout(0.3),\n",
        "\n",
        "    Dense(512, activation='relu'),\n",
        "    BatchNormalization(),\n",
        "    Dropout(0.2),\n",
        "\n",
        "    Dense(256, activation='relu'),\n",
        "    BatchNormalization(),\n",
        "    Dropout(0.1),\n",
        "\n",
        "    # Output layer with softmax activation for multi-class classification\n",
        "    Dense(len(label_encoder.classes_), activation='softmax', dtype='float32') # Ensure output is float32 for mixed precision compatibility\n",
        "])\n",
        "\n",
        "# Recompile the model\n",
        "optimizer = RMSprop(learning_rate=0.001, rho=0.9)\n",
        "\n",
        "mlp_model.compile(optimizer=optimizer, loss='categorical_crossentropy', metrics=['accuracy'])\n",
        "\n",
        "# Ensure callbacks are defined\n",
        "early_stopping = EarlyStopping(monitor='val_loss', patience=7, restore_best_weights=True)\n",
        "reduce_lr = ReduceLROnPlateau(monitor='val_loss', factor=0.3, patience=3, min_lr=1e-6)\n",
        "\n",
        "# Now fit the model with the data generators\n",
        "history_mlp = mlp_model.fit(\n",
        "    train_generator,\n",
        "    epochs=50,\n",
        "    validation_data=validation_generator,\n",
        "    steps_per_epoch=steps_per_epoch,\n",
        "    validation_steps=validation_steps,\n",
        "    callbacks=[early_stopping, reduce_lr]\n",
        ")"
      ],
      "metadata": {
        "id": "x5nK4_bOFxWZ",
        "colab": {
          "base_uri": "https://localhost:8080/"
        },
        "outputId": "40f6f5e9-171f-4fce-8c61-210e75716930"
      },
      "execution_count": null,
      "outputs": [
        {
          "output_type": "stream",
          "name": "stderr",
          "text": [
            "/usr/local/lib/python3.11/dist-packages/keras/src/layers/convolutional/base_conv.py:107: UserWarning: Do not pass an `input_shape`/`input_dim` argument to a layer. When using Sequential models, prefer using an `Input(shape)` object as the first layer in the model instead.\n",
            "  super().__init__(activity_regularizer=activity_regularizer, **kwargs)\n"
          ]
        },
        {
          "output_type": "stream",
          "name": "stdout",
          "text": [
            "Epoch 1/50\n",
            "\u001b[1m163/163\u001b[0m \u001b[32m━━━━━━━━━━━━━━━━━━━━\u001b[0m\u001b[37m\u001b[0m \u001b[1m0s\u001b[0m 829ms/step - accuracy: 0.3042 - loss: 1.9466"
          ]
        },
        {
          "output_type": "stream",
          "name": "stderr",
          "text": [
            "/usr/local/lib/python3.11/dist-packages/keras/src/trainers/data_adapters/py_dataset_adapter.py:121: UserWarning: Your `PyDataset` class should call `super().__init__(**kwargs)` in its constructor. `**kwargs` can include `workers`, `use_multiprocessing`, `max_queue_size`. Do not pass these arguments to `fit()`, as they will be ignored.\n",
            "  self._warn_if_super_not_called()\n"
          ]
        },
        {
          "output_type": "stream",
          "name": "stdout",
          "text": [
            "\b\b\b\b\b\b\b\b\b\b\b\b\b\b\b\b\b\b\b\b\b\b\b\b\b\b\b\b\b\b\b\b\b\b\b\b\b\b\b\b\b\b\b\b\b\b\b\b\b\b\b\b\b\b\b\b\b\b\b\b\b\b\b\b\b\b\b\b\b\b\b\b\b\b\b\b\r\u001b[1m163/163\u001b[0m \u001b[32m━━━━━━━━━━━━━━━━━━━━\u001b[0m\u001b[37m\u001b[0m \u001b[1m152s\u001b[0m 868ms/step - accuracy: 0.3044 - loss: 1.9452 - val_accuracy: 0.3163 - val_loss: 1.6033 - learning_rate: 0.0010\n",
            "Epoch 2/50\n",
            "\u001b[1m162/163\u001b[0m \u001b[32m━━━━━━━━━━━━━━━━━━━\u001b[0m\u001b[37m━\u001b[0m \u001b[1m0s\u001b[0m 826ms/step - accuracy: 0.3922 - loss: 1.4614"
          ]
        },
        {
          "output_type": "stream",
          "name": "stderr",
          "text": [
            "/usr/local/lib/python3.11/dist-packages/keras/src/trainers/epoch_iterator.py:107: UserWarning: Your input ran out of data; interrupting training. Make sure that your dataset or generator can generate at least `steps_per_epoch * epochs` batches. You may need to use the `.repeat()` function when building your dataset.\n",
            "  self._interrupted_warning()\n"
          ]
        },
        {
          "output_type": "stream",
          "name": "stdout",
          "text": [
            "\b\b\b\b\b\b\b\b\b\b\b\b\b\b\b\b\b\b\b\b\b\b\b\b\b\b\b\b\b\b\b\b\b\b\b\b\b\b\b\b\b\b\b\b\b\b\b\b\b\b\b\b\b\b\b\b\b\b\b\b\b\b\b\b\b\b\b\b\b\b\b\b\b\b\b\b\r\u001b[1m163/163\u001b[0m \u001b[32m━━━━━━━━━━━━━━━━━━━━\u001b[0m\u001b[37m\u001b[0m \u001b[1m141s\u001b[0m 865ms/step - accuracy: 0.3923 - loss: 1.4612 - val_accuracy: 0.2835 - val_loss: 2.0437 - learning_rate: 0.0010\n",
            "Epoch 3/50\n",
            "\u001b[1m163/163\u001b[0m \u001b[32m━━━━━━━━━━━━━━━━━━━━\u001b[0m\u001b[37m\u001b[0m \u001b[1m138s\u001b[0m 849ms/step - accuracy: 0.4973 - loss: 1.2619 - val_accuracy: 0.3948 - val_loss: 1.6404 - learning_rate: 0.0010\n",
            "Epoch 4/50\n",
            "\u001b[1m163/163\u001b[0m \u001b[32m━━━━━━━━━━━━━━━━━━━━\u001b[0m\u001b[37m\u001b[0m \u001b[1m141s\u001b[0m 869ms/step - accuracy: 0.5731 - loss: 1.0756 - val_accuracy: 0.5000 - val_loss: 1.3052 - learning_rate: 0.0010\n",
            "Epoch 5/50\n",
            "\u001b[1m163/163\u001b[0m \u001b[32m━━━━━━━━━━━━━━━━━━━━\u001b[0m\u001b[37m\u001b[0m \u001b[1m202s\u001b[0m 980ms/step - accuracy: 0.6335 - loss: 0.9702 - val_accuracy: 0.5168 - val_loss: 1.3665 - learning_rate: 0.0010\n",
            "Epoch 6/50\n",
            "\u001b[1m163/163\u001b[0m \u001b[32m━━━━━━━━━━━━━━━━━━━━\u001b[0m\u001b[37m\u001b[0m \u001b[1m143s\u001b[0m 875ms/step - accuracy: 0.6434 - loss: 0.9156 - val_accuracy: 0.3765 - val_loss: 2.5387 - learning_rate: 0.0010\n",
            "Epoch 7/50\n",
            "\u001b[1m163/163\u001b[0m \u001b[32m━━━━━━━━━━━━━━━━━━━━\u001b[0m\u001b[37m\u001b[0m \u001b[1m143s\u001b[0m 876ms/step - accuracy: 0.6945 - loss: 0.8115 - val_accuracy: 0.5907 - val_loss: 1.1736 - learning_rate: 0.0010\n",
            "Epoch 8/50\n",
            "\u001b[1m163/163\u001b[0m \u001b[32m━━━━━━━━━━━━━━━━━━━━\u001b[0m\u001b[37m\u001b[0m \u001b[1m129s\u001b[0m 793ms/step - accuracy: 0.7091 - loss: 0.7421 - val_accuracy: 0.5816 - val_loss: 1.2709 - learning_rate: 0.0010\n",
            "Epoch 9/50\n",
            "\u001b[1m163/163\u001b[0m \u001b[32m━━━━━━━━━━━━━━━━━━━━\u001b[0m\u001b[37m\u001b[0m \u001b[1m141s\u001b[0m 864ms/step - accuracy: 0.7345 - loss: 0.7149 - val_accuracy: 0.7172 - val_loss: 0.7329 - learning_rate: 0.0010\n",
            "Epoch 10/50\n",
            "\u001b[1m163/163\u001b[0m \u001b[32m━━━━━━━━━━━━━━━━━━━━\u001b[0m\u001b[37m\u001b[0m \u001b[1m137s\u001b[0m 837ms/step - accuracy: 0.7548 - loss: 0.6536 - val_accuracy: 0.5968 - val_loss: 1.3747 - learning_rate: 0.0010\n",
            "Epoch 11/50\n",
            "\u001b[1m163/163\u001b[0m \u001b[32m━━━━━━━━━━━━━━━━━━━━\u001b[0m\u001b[37m\u001b[0m \u001b[1m202s\u001b[0m 966ms/step - accuracy: 0.7840 - loss: 0.5757 - val_accuracy: 0.6989 - val_loss: 0.8027 - learning_rate: 0.0010\n",
            "Epoch 12/50\n",
            "\u001b[1m163/163\u001b[0m \u001b[32m━━━━━━━━━━━━━━━━━━━━\u001b[0m\u001b[37m\u001b[0m \u001b[1m142s\u001b[0m 871ms/step - accuracy: 0.7652 - loss: 0.6001 - val_accuracy: 0.5312 - val_loss: 1.4319 - learning_rate: 0.0010\n",
            "Epoch 13/50\n",
            "\u001b[1m163/163\u001b[0m \u001b[32m━━━━━━━━━━━━━━━━━━━━\u001b[0m\u001b[37m\u001b[0m \u001b[1m201s\u001b[0m 1s/step - accuracy: 0.8248 - loss: 0.4507 - val_accuracy: 0.7698 - val_loss: 0.5707 - learning_rate: 3.0000e-04\n",
            "Epoch 14/50\n",
            "\u001b[1m163/163\u001b[0m \u001b[32m━━━━━━━━━━━━━━━━━━━━\u001b[0m\u001b[37m\u001b[0m \u001b[1m138s\u001b[0m 847ms/step - accuracy: 0.8692 - loss: 0.3668 - val_accuracy: 0.6989 - val_loss: 0.8237 - learning_rate: 3.0000e-04\n",
            "Epoch 15/50\n",
            "\u001b[1m163/163\u001b[0m \u001b[32m━━━━━━━━━━━━━━━━━━━━\u001b[0m\u001b[37m\u001b[0m \u001b[1m202s\u001b[0m 1s/step - accuracy: 0.8683 - loss: 0.3440 - val_accuracy: 0.8201 - val_loss: 0.4564 - learning_rate: 3.0000e-04\n",
            "Epoch 16/50\n",
            "\u001b[1m163/163\u001b[0m \u001b[32m━━━━━━━━━━━━━━━━━━━━\u001b[0m\u001b[37m\u001b[0m \u001b[1m142s\u001b[0m 871ms/step - accuracy: 0.8797 - loss: 0.3154 - val_accuracy: 0.7591 - val_loss: 0.7236 - learning_rate: 3.0000e-04\n",
            "Epoch 17/50\n",
            "\u001b[1m163/163\u001b[0m \u001b[32m━━━━━━━━━━━━━━━━━━━━\u001b[0m\u001b[37m\u001b[0m \u001b[1m202s\u001b[0m 973ms/step - accuracy: 0.9042 - loss: 0.2690 - val_accuracy: 0.8377 - val_loss: 0.4724 - learning_rate: 3.0000e-04\n",
            "Epoch 18/50\n",
            "\u001b[1m163/163\u001b[0m \u001b[32m━━━━━━━━━━━━━━━━━━━━\u001b[0m\u001b[37m\u001b[0m \u001b[1m141s\u001b[0m 862ms/step - accuracy: 0.8996 - loss: 0.2743 - val_accuracy: 0.8239 - val_loss: 0.4772 - learning_rate: 3.0000e-04\n",
            "Epoch 19/50\n",
            "\u001b[1m163/163\u001b[0m \u001b[32m━━━━━━━━━━━━━━━━━━━━\u001b[0m\u001b[37m\u001b[0m \u001b[1m159s\u001b[0m 833ms/step - accuracy: 0.9114 - loss: 0.2368 - val_accuracy: 0.8681 - val_loss: 0.3614 - learning_rate: 9.0000e-05\n",
            "Epoch 20/50\n",
            "\u001b[1m163/163\u001b[0m \u001b[32m━━━━━━━━━━━━━━━━━━━━\u001b[0m\u001b[37m\u001b[0m \u001b[1m142s\u001b[0m 869ms/step - accuracy: 0.9318 - loss: 0.1856 - val_accuracy: 0.8681 - val_loss: 0.3742 - learning_rate: 9.0000e-05\n",
            "Epoch 21/50\n",
            "\u001b[1m163/163\u001b[0m \u001b[32m━━━━━━━━━━━━━━━━━━━━\u001b[0m\u001b[37m\u001b[0m \u001b[1m182s\u001b[0m 845ms/step - accuracy: 0.9333 - loss: 0.1900 - val_accuracy: 0.8834 - val_loss: 0.3614 - learning_rate: 9.0000e-05\n",
            "Epoch 22/50\n",
            "\u001b[1m163/163\u001b[0m \u001b[32m━━━━━━━━━━━━━━━━━━━━\u001b[0m\u001b[37m\u001b[0m \u001b[1m134s\u001b[0m 824ms/step - accuracy: 0.9351 - loss: 0.1798 - val_accuracy: 0.8735 - val_loss: 0.3555 - learning_rate: 9.0000e-05\n",
            "Epoch 23/50\n",
            "\u001b[1m163/163\u001b[0m \u001b[32m━━━━━━━━━━━━━━━━━━━━\u001b[0m\u001b[37m\u001b[0m \u001b[1m135s\u001b[0m 827ms/step - accuracy: 0.9326 - loss: 0.1815 - val_accuracy: 0.8552 - val_loss: 0.4040 - learning_rate: 9.0000e-05\n",
            "Epoch 24/50\n",
            "\u001b[1m163/163\u001b[0m \u001b[32m━━━━━━━━━━━━━━━━━━━━\u001b[0m\u001b[37m\u001b[0m \u001b[1m142s\u001b[0m 872ms/step - accuracy: 0.9415 - loss: 0.1747 - val_accuracy: 0.8864 - val_loss: 0.3291 - learning_rate: 9.0000e-05\n",
            "Epoch 25/50\n",
            "\u001b[1m163/163\u001b[0m \u001b[32m━━━━━━━━━━━━━━━━━━━━\u001b[0m\u001b[37m\u001b[0m \u001b[1m202s\u001b[0m 964ms/step - accuracy: 0.9408 - loss: 0.1765 - val_accuracy: 0.8651 - val_loss: 0.3607 - learning_rate: 9.0000e-05\n",
            "Epoch 26/50\n",
            "\u001b[1m163/163\u001b[0m \u001b[32m━━━━━━━━━━━━━━━━━━━━\u001b[0m\u001b[37m\u001b[0m \u001b[1m135s\u001b[0m 826ms/step - accuracy: 0.9473 - loss: 0.1578 - val_accuracy: 0.8803 - val_loss: 0.3359 - learning_rate: 9.0000e-05\n",
            "Epoch 27/50\n",
            "\u001b[1m163/163\u001b[0m \u001b[32m━━━━━━━━━━━━━━━━━━━━\u001b[0m\u001b[37m\u001b[0m \u001b[1m165s\u001b[0m 827ms/step - accuracy: 0.9485 - loss: 0.1461 - val_accuracy: 0.8834 - val_loss: 0.3625 - learning_rate: 9.0000e-05\n",
            "Epoch 28/50\n",
            "\u001b[1m163/163\u001b[0m \u001b[32m━━━━━━━━━━━━━━━━━━━━\u001b[0m\u001b[37m\u001b[0m \u001b[1m142s\u001b[0m 871ms/step - accuracy: 0.9610 - loss: 0.1279 - val_accuracy: 0.8819 - val_loss: 0.3307 - learning_rate: 2.7000e-05\n",
            "Epoch 29/50\n",
            "\u001b[1m163/163\u001b[0m \u001b[32m━━━━━━━━━━━━━━━━━━━━\u001b[0m\u001b[37m\u001b[0m \u001b[1m181s\u001b[0m 832ms/step - accuracy: 0.9526 - loss: 0.1322 - val_accuracy: 0.8841 - val_loss: 0.3326 - learning_rate: 2.7000e-05\n",
            "Epoch 30/50\n",
            "\u001b[1m163/163\u001b[0m \u001b[32m━━━━━━━━━━━━━━━━━━━━\u001b[0m\u001b[37m\u001b[0m \u001b[1m142s\u001b[0m 867ms/step - accuracy: 0.9534 - loss: 0.1320 - val_accuracy: 0.8841 - val_loss: 0.3374 - learning_rate: 2.7000e-05\n",
            "Epoch 31/50\n",
            "\u001b[1m163/163\u001b[0m \u001b[32m━━━━━━━━━━━━━━━━━━━━\u001b[0m\u001b[37m\u001b[0m \u001b[1m179s\u001b[0m 825ms/step - accuracy: 0.9567 - loss: 0.1246 - val_accuracy: 0.8796 - val_loss: 0.3373 - learning_rate: 8.1000e-06\n"
          ]
        }
      ]
    },
    {
      "cell_type": "code",
      "source": [
        "y_pred_prob_mlp = mlp_model.predict(X_val)\n",
        "y_pred_mlp = np.argmax(y_pred_prob_mlp, axis=1)\n",
        "\n",
        "evaluate_model(mlp_model, history_mlp, X_val, y_val, label_encoder,y_pred_prob_mlp)"
      ],
      "metadata": {
        "id": "v1dSpCWDF4KH",
        "colab": {
          "base_uri": "https://localhost:8080/",
          "height": 898
        },
        "outputId": "5b6a086f-b33d-499a-fd03-86c6cf4ed9ed"
      },
      "execution_count": null,
      "outputs": [
        {
          "output_type": "stream",
          "name": "stdout",
          "text": [
            "\u001b[1m82/82\u001b[0m \u001b[32m━━━━━━━━━━━━━━━━━━━━\u001b[0m\u001b[37m\u001b[0m \u001b[1m13s\u001b[0m 160ms/step\n",
            "Test accuracy: 0.8771\n",
            "Classification Report:\n",
            "               precision    recall  f1-score   support\n",
            "\n",
            "       curly       0.93      0.87      0.90       816\n",
            "  dreadlocks       0.88      0.93      0.90       473\n",
            "       kinky       0.89      0.93      0.91       438\n",
            "    straight       0.82      0.84      0.83       424\n",
            "        wavy       0.82      0.81      0.81       445\n",
            "\n",
            "    accuracy                           0.88      2596\n",
            "   macro avg       0.87      0.88      0.87      2596\n",
            "weighted avg       0.88      0.88      0.88      2596\n",
            "\n"
          ]
        },
        {
          "output_type": "display_data",
          "data": {
            "text/plain": [
              "<Figure size 1000x700 with 2 Axes>"
            ],
            "image/png": "[encoded data removed]"
          },
          "metadata": {}
        },
        {
          "output_type": "stream",
          "name": "stdout",
          "text": [
            "[0. 0. 0. 0. 1.] → wavy\n",
            "[0. 0. 0. 0. 1.] → wavy\n",
            "[0.02 0.   0.01 0.03 0.94] → wavy\n",
            "[0.   0.   0.   0.17 0.83] → wavy\n",
            "[0.   0.   0.97 0.03 0.  ] → kinky\n",
            "(96, 96, 3) tf.Tensor([0. 0. 0. 0. 1.], shape=(5,), dtype=float32)\n"
          ]
        }
      ]
    },
    {
      "cell_type": "markdown",
      "metadata": {
        "id": "vFNdkGJmkHiZ"
      },
      "source": [
        "# Raport Final: Experimentare cu Modele MLP/CNN pentru Clasificarea Texturii Părului\n",
        "\n",
        "## 📌 Obiectiv\n",
        "\n",
        "Scopul acestui experiment a fost dezvoltarea și optimizarea unei arhitecturi de rețele neuronale pentru clasificarea imaginilor ce reprezintă 5 categorii distincte de texturi de păr:\n",
        "\n",
        "1. **Curly (Creț)**\n",
        "2. **Dreadlocks**\n",
        "3. **Kinky (Afro)**\n",
        "4. **Straight (Drept)**\n",
        "5. **Wavy (Ondulat)**\n",
        "\n",
        "Se urmărea atingerea unei performanțe maxime pe setul de test prin iterarea și îmbunătățirea succesivă a modelelor.\n",
        "\n",
        "---\n",
        "\n",
        "## 🛠️ Setul de Date și Preprocesare\n",
        "\n",
        "- **Dimensiune imagine:** 96×96×3 (RGB)\n",
        "- **Distribuție:** Distribuția claselor a fost relativ echilibrată.\n",
        "- **Preprocesare:**  \n",
        "  - Normalizare (valori între 0 și 1)\n",
        "  - Data augmentation (rotații, zoom, flip orizontal)\n",
        "  - Transformarea etichetelor în format one-hot (prin `label_encoder`)\n",
        "\n",
        "---\n",
        "\n",
        "## 📊 Evoluția Experimentelor\n",
        "\n",
        "### **🔹 Pasul 1: Arhitectura Inițială – MLP Simplu**\n",
        "\n",
        "```python\n",
        "mlp_model = Sequential([\n",
        "    Flatten(input_shape=(96, 96, 3)),\n",
        "    Dense(512, activation='relu'),\n",
        "    Dropout(0.5),\n",
        "    Dense(len(label_encoder.classes_), activation='softmax')\n",
        "])\n",
        "```\n",
        "\n",
        "**Probleme observate:**\n",
        "- Instabilitate ridicată a antrenării.\n",
        "- Acuratețe sub **35%**.\n",
        "- Suprapotrivire severă (loss-ul oscila foarte mult).\n",
        "\n",
        "---\n",
        "\n",
        "### **🔹 Pasul 2: CNN cu 3 Straturi Convoluționale**\n",
        "\n",
        "```python\n",
        "mlp_model = Sequential([\n",
        "    Conv2D(32, (3, 3), activation='relu', input_shape=(96, 96, 3)),\n",
        "    MaxPooling2D(pool_size=(2, 2)),\n",
        "\n",
        "    Conv2D(64, (3, 3), activation='relu'),\n",
        "    MaxPooling2D(pool_size=(2, 2)),\n",
        "\n",
        "    Flatten(),\n",
        "    Dense(512, activation='relu'),\n",
        "    Dropout(0.5),\n",
        "    Dense(256, activation='relu'),\n",
        "    Dropout(0.3),\n",
        "    Dense(len(label_encoder.classes_), activation='softmax')\n",
        "])\n",
        "```\n",
        "\n",
        "**Rezultate:**\n",
        "- **Test accuracy:** ~30%\n",
        "- Modelul nu a reușit să extragă trăsăturile vizuale complexe.\n",
        "\n",
        "---\n",
        "\n",
        "### **🔹 Pasul 3: CNN cu 4 Straturi Convoluționale**\n",
        "\n",
        "```python\n",
        "mlp_model = Sequential([\n",
        "    Conv2D(32, (3, 3), activation='relu', input_shape=(96, 96, 3)),\n",
        "    MaxPooling2D(pool_size=(2, 2)),\n",
        "\n",
        "    Conv2D(64, (3, 3), activation='relu'),\n",
        "    MaxPooling2D(pool_size=(2, 2)),\n",
        "\n",
        "    Conv2D(128, (3, 3), activation='relu'),\n",
        "    MaxPooling2D(pool_size=(2, 2)),\n",
        "\n",
        "    Flatten(),\n",
        "    Dense(1024, activation='relu'),\n",
        "    Dropout(0.5),\n",
        "    Dense(512, activation='relu'),\n",
        "    Dropout(0.4),\n",
        "    Dense(256, activation='relu'),\n",
        "    Dropout(0.3),\n",
        "    Dense(len(label_encoder.classes_), activation='softmax')\n",
        "])\n",
        "```\n",
        "\n",
        "**Rezultate:**\n",
        "- **Test accuracy:** ~58%\n",
        "- Capturarea detaliilor vizuale a fost mult îmbunătățită.\n",
        "\n",
        "---\n",
        "\n",
        "### **🔹 Pasul 4: EfficientNetB0 + MLP**\n",
        "\n",
        "```python\n",
        "base_model = EfficientNetB0(weights='imagenet', include_top=False, input_shape=(96, 96, 3))\n",
        "mlp_model = Sequential([\n",
        "    base_model,\n",
        "    GlobalAveragePooling2D(),\n",
        "    Dense(1024, activation='swish', kernel_regularizer=l2(0.001)),\n",
        "    Dropout(0.5),\n",
        "    Dense(len(label_encoder.classes_), activation='softmax')\n",
        "])\n",
        "```\n",
        "\n",
        "**Rezultate:**\n",
        "- **Test accuracy:** ~16%\n",
        "- Modelul nu a reușit să învețe caracteristici relevante din cauza transferului incomplet al cunoștințelor.\n",
        "\n",
        "---\n",
        "\n",
        "### **🔹 Pasul 5: Fine-tuned EfficientNetB0 + Learning Rate Scheduler**\n",
        "\n",
        "```python\n",
        "def lr_schedule(epoch, lr):\n",
        "    if epoch > 5:\n",
        "        return lr * 0.5\n",
        "    return lr\n",
        "\n",
        "lr_scheduler = LearningRateScheduler(lr_schedule)\n",
        "\n",
        "base_model = EfficientNetB0(weights='imagenet', include_top=False, input_shape=(96, 96, 3))\n",
        "mlp_model = Sequential([\n",
        "    base_model,\n",
        "    GlobalAveragePooling2D(),\n",
        "    Dense(1024, activation='swish', kernel_regularizer=l2(0.001)),\n",
        "    Dense(1024, activation='swish'),\n",
        "    Dropout(0.3),\n",
        "    Dense(512, activation='swish'),\n",
        "    Dropout(0.2),\n",
        "    Dense(256, activation='swish'),\n",
        "    Dropout(0.2),\n",
        "    Dense(len(label_encoder.classes_), activation='softmax')\n",
        "])\n",
        "```\n",
        "\n",
        "**Rezultate:**\n",
        "- **Test accuracy:** ~30%\n",
        "- Scheduler-ul a îmbunătățit stabilitatea, însă performanța rămâne relativ scăzută.\n",
        "\n",
        "---\n",
        "\n",
        "### **🔹 Pasul 6: Introducerea Straturilor Convoluționale cu BatchNormalization și GlobalAveragePooling2D**\n",
        "\n",
        "```python\n",
        "mlp_model = Sequential([\n",
        "    Conv2D(32, (3, 3), activation='relu', input_shape=(96, 96, 3)),\n",
        "    BatchNormalization(),\n",
        "    MaxPooling2D(pool_size=(2, 2)),\n",
        "\n",
        "    Conv2D(64, (3, 3), activation='relu'),\n",
        "    BatchNormalization(),\n",
        "    MaxPooling2D(pool_size=(2, 2)),\n",
        "\n",
        "    Conv2D(128, (3, 3), activation='relu'),\n",
        "    BatchNormalization(),\n",
        "    MaxPooling2D(pool_size=(2, 2)),\n",
        "\n",
        "    GlobalAveragePooling2D(),\n",
        "\n",
        "    Dense(1024, activation='relu'),\n",
        "    BatchNormalization(),\n",
        "    Dropout(0.3),\n",
        "\n",
        "    Dense(512, activation='relu'),\n",
        "    BatchNormalization(),\n",
        "    Dropout(0.2),\n",
        "\n",
        "    Dense(256, activation='relu'),\n",
        "    BatchNormalization(),\n",
        "    Dropout(0.1),\n",
        "\n",
        "    Dense(len(label_encoder.classes_), activation='softmax')\n",
        "])\n",
        "```\n",
        "\n",
        "**Rezultate:**\n",
        "- Acuratețea a crescut semnificativ, de la 61% la ~74%.\n",
        "- Stabilitatea tuturor metricalor (loss/accuracy) s-a îmbunătățit datorită normalizării.\n",
        "\n",
        "---\n",
        "\n",
        "### **🔹 Pasul 7: Reglarea Ratei de Învățare și Optimizatorul**\n",
        "\n",
        "```python\n",
        "optimizer = RMSprop(learning_rate=0.001, rho=0.9)\n",
        "reduce_lr = ReduceLROnPlateau(monitor='val_loss', factor=0.3, patience=3, min_lr=1e-6)\n",
        "```\n",
        "\n",
        "**Rezultate:**\n",
        "- Convergență accelerată și stabilizarea valorilor de `val_loss`.\n",
        "- Modelul a atins o acuratețe de ~88% în această configurație.\n",
        "\n",
        "---\n",
        "\n",
        "### **🔹 Pasul 8: Adăugarea Regularizării L2 și Ajustarea Dropout-ului**\n",
        "\n",
        "```python\n",
        "# În blocurile Dense se aplică regularizarea L2:\n",
        "Dense(1024, activation='relu', kernel_regularizer=l2(0.001)),\n",
        "Dense(512, activation='relu', kernel_regularizer=l2(0.001)),\n",
        "Dense(256, activation='relu', kernel_regularizer=l2(0.001))\n",
        "```\n",
        "\n",
        "**Rezultate:**\n",
        "- Reducerea efectului de overfitting, cu o distribuție mai echilibrată a greutăților.\n",
        "- Modelul a atins **90.99% acuratețe** pe setul de test.\n",
        "\n",
        "---\n",
        "\n",
        "### **🔹 Pasul 9: Implementarea Variantelor Avansate cu BatchNormalization și Ajustarea Parametrilor**\n",
        "\n",
        "În această etapă s-au testat două variante care utilizează o arhitectură similară cu pasul 6, dar cu diferențe în strategiile de ajustare a ratei de învățare și alte detalii (ex. tipul de date la ultimul strat).\n",
        "\n",
        "#### **Varianta A**\n",
        "\n",
        "```python\n",
        "mlp_model = Sequential([\n",
        "    Conv2D(32, (3, 3), activation='relu', input_shape=(96, 96, 3)),\n",
        "    BatchNormalization(),\n",
        "    MaxPooling2D(pool_size=(2, 2)),\n",
        "    \n",
        "    Conv2D(64, (3, 3), activation='relu'),\n",
        "    BatchNormalization(),\n",
        "    MaxPooling2D(pool_size=(2, 2)),\n",
        "    \n",
        "    Conv2D(128, (3, 3), activation='relu'),\n",
        "    BatchNormalization(),\n",
        "    MaxPooling2D(pool_size=(2, 2)),\n",
        "    \n",
        "    GlobalAveragePooling2D(),\n",
        "    \n",
        "    Dense(1024, activation='relu'),\n",
        "    BatchNormalization(),\n",
        "    Dropout(0.3),\n",
        "    \n",
        "    Dense(512, activation='relu'),\n",
        "    BatchNormalization(),\n",
        "    Dropout(0.2),\n",
        "    \n",
        "    Dense(256, activation='relu'),\n",
        "    BatchNormalization(),\n",
        "    Dropout(0.1),\n",
        "    \n",
        "    Dense(len(label_encoder.classes_), activation='softmax')\n",
        "])\n",
        "optimizer = RMSprop(learning_rate=0.001, rho=0.9)\n",
        "mlp_model.compile(optimizer=optimizer, loss='categorical_crossentropy', metrics=['accuracy'])\n",
        "early_stopping = EarlyStopping(monitor='val_loss', patience=7, restore_best_weights=True)\n",
        "reduce_lr = ReduceLROnPlateau(monitor='val_loss', factor=0.5, patience=5, min_lr=1e-6)\n",
        "history_mlp = mlp_model.fit(\n",
        "    train_generator,\n",
        "    epochs=50,\n",
        "    validation_data=validation_generator,\n",
        "    steps_per_epoch=steps_per_epoch,\n",
        "    validation_steps=validation_steps,\n",
        "    callbacks=[early_stopping, reduce_lr]\n",
        ")\n",
        "```\n",
        "\n",
        "**Rezultate:**\n",
        "- **Test accuracy:** 90.99%\n",
        "- *Metrici detaliate:*\n",
        "  - *Curly*: Precision: 0.92, Recall: 0.92, F1-score: 0.92 (support: 816)\n",
        "  - *Dreadlocks*: Precision: 0.95, Recall: 0.90, F1-score: 0.92 (support: 473)\n",
        "  - *Kinky*: Precision: 0.90, Recall: 0.94, F1-score: 0.92 (support: 438)\n",
        "  - *Straight*: Precision: 0.89, Recall: 0.89, F1-score: 0.89 (support: 424)\n",
        "  - *Wavy*: Precision: 0.88, Recall: 0.89, F1-score: 0.88 (support: 445)\n",
        "- Acuratețea globală: ~91%\n",
        "\n",
        "#### **Varianta B**\n",
        "\n",
        "```python\n",
        "mlp_model = Sequential([\n",
        "    Conv2D(32, (3, 3), activation='relu', input_shape=(96, 96, 3)),\n",
        "    BatchNormalization(),\n",
        "    MaxPooling2D(pool_size=(2, 2)),\n",
        "    \n",
        "    Conv2D(64, (3, 3), activation='relu'),\n",
        "    BatchNormalization(),\n",
        "    MaxPooling2D(pool_size=(2, 2)),\n",
        "    \n",
        "    Conv2D(128, (3, 3), activation='relu'),\n",
        "    BatchNormalization(),\n",
        "    MaxPooling2D(pool_size=(2, 2)),\n",
        "    \n",
        "    GlobalAveragePooling2D(),\n",
        "    \n",
        "    Dense(1024, activation='relu'),\n",
        "    BatchNormalization(),\n",
        "    Dropout(0.3),\n",
        "    \n",
        "    Dense(512, activation='relu'),\n",
        "    BatchNormalization(),\n",
        "    Dropout(0.2),\n",
        "    \n",
        "    Dense(256, activation='relu'),\n",
        "    BatchNormalization(),\n",
        "    Dropout(0.1),\n",
        "    \n",
        "    Dense(len(label_encoder.classes_), activation='softmax', dtype='float32')\n",
        "])\n",
        "optimizer = RMSprop(learning_rate=0.001, rho=0.9)\n",
        "mlp_model.compile(optimizer=optimizer, loss='categorical_crossentropy', metrics=['accuracy'])\n",
        "early_stopping = EarlyStopping(monitor='val_loss', patience=7, restore_best_weights=True)\n",
        "reduce_lr = ReduceLROnPlateau(monitor='val_loss', factor=0.3, patience=3, min_lr=1e-6)\n",
        "history_mlp = mlp_model.fit(\n",
        "    train_generator,\n",
        "    epochs=50,\n",
        "    validation_data=validation_generator,\n",
        "    steps_per_epoch=steps_per_epoch,\n",
        "    validation_steps=validation_steps,\n",
        "    callbacks=[early_stopping, reduce_lr]\n",
        ")\n",
        "```\n",
        "\n",
        "**Rezultate:**\n",
        "- **Test accuracy:** 87.71%\n",
        "- *Metrici detaliate:*\n",
        "  - *Curly*: Precision: 0.93, Recall: 0.87, F1-score: 0.90 (support: 816)\n",
        "  - *Dreadlocks*: Precision: 0.88, Recall: 0.93, F1-score: 0.90 (support: 473)\n",
        "  - *Kinky*: Precision: 0.89, Recall: 0.93, F1-score: 0.91 (support: 438)\n",
        "  - *Straight*: Precision: 0.82, Recall: 0.84, F1-score: 0.83 (support: 424)\n",
        "  - *Wavy*: Precision: 0.82, Recall: 0.81, F1-score: 0.81 (support: 445)\n",
        "- Acuratețea globală: ~88%\n",
        "\n",
        "---\n",
        "\n",
        "### **🔹 Pasul 10: Analiza Comparativă a Rezultatelor și Concluzii Finale**\n",
        "\n",
        "**Comparație a performanțelor obținute:**\n",
        "\n",
        "| Model                                      | Test Accuracy | Observații Principale                                     |\n",
        "| ------------------------------------------ | ------------- | --------------------------------------------------------- |\n",
        "| MLP Simplu (Pasul 1)                       | ~35%         | Suprapotrivire, instabilitate                             |\n",
        "| CNN cu 3 straturi (Pasul 2)                  | ~30%         | Nu extrage caracteristici complexe                       |\n",
        "| CNN cu 4 straturi (Pasul 3)                  | ~58%         | Îmbunătățire semnificativă a detaliilor                    |\n",
        "| EfficientNetB0 + MLP (Pasul 4)               | ~16%         | Transfer learning insuficient                            |\n",
        "| Fine-tuned EfficientNetB0 (Pasul 5)          | ~30%         | Scheduler-ul ajută, dar modelul rămâne subperformant       |\n",
        "| CNN cu BatchNormalization (Pasul 6)          | ~74%         | Stabilitate crescută, extragere eficientă de trăsături       |\n",
        "| Reglarea ratei și optimizare (Pasul 7)         | ~88%         | Rata de învățare adaptivă; convergență accelerată          |\n",
        "| Regularizare L2 și ajustarea Dropout (Pasul 8) | ~91%         | Overfitting redus; modelul generalizează foarte bine       |\n",
        "| Varianta A – CNN avansat cu BN              | ~91%         | Cele mai bune rezultate; metrici de top pentru toate clasele|\n",
        "| Varianta B – CNN avansat cu BN (dtype float32)| ~88%         | Ușor sub Varianta A, dar totuși performanță solidă          |\n",
        "\n",
        "**Concluzii:**\n",
        "\n",
        "- **Cele mai bune rezultate** au fost obținute cu modelul care folosește straturi convoluționale combinate cu BatchNormalization, GlobalAveragePooling2D, regularizare L2 și ajustări fine ale valorilor Dropout. Variantele avansate (în special Varianta A) au atins **90.99% acuratețe**, demonstrând o capacitate foarte bună de a diferenția între clase.\n",
        "- **Strategia de reducere a ratei de învățare** prin `ReduceLROnPlateau` și utilizarea optimizatorului `RMSprop` s-au dovedit esențiale pentru convergența rapidă și stabilizarea antrenării.\n",
        "- Implementările pe bază de modele pre-antrenate precum EfficientNetB0 au necesitat un fine-tuning mai profund pentru a concura cu arhitecturile proiectate de la zero pentru problema dată.\n",
        "\n",
        "**Perspective Viitoare:**\n",
        "\n",
        "1. **Augmentare Avansată a Datelor:** Utilizarea tehnicilor ca CutMix, MixUp sau AutoAugment pentru a îmbunătăți capacitatea de generalizare.\n",
        "2. **Fine-Tuning Extins:** Explorați ajustarea unui număr mai mare de straturi din modelele pre-antrenate pentru a extrage mai eficient caracteristicile specifice texturii părului.\n",
        "3. **Ansambluri de Modele (Ensembles):** Combinați predicțiile mai multor arhitecturi pentru a obține o robustete crescută.\n",
        "4. **Experimentare cu Alte Optimizări:** Testați optimizatori precum Adam sau SGD cu momentum pentru a vedea dacă se poate obține o convergență și o acuratețe mai bună."
      ]
    }
  ],
  "metadata": {
    "colab": {
      "collapsed_sections": [
        "mcEcG3AihHrq",
        "1fwUW_Muhjm2",
        "PxdKy_JdiwR7",
        "9eVVA-ckIYGk",
        "OvSIYE26FwlF"
      ],
      "provenance": [],
      "authorship_tag": "ABX9TyOzKe4NcbfPsuQIJWHkZSvt",
      "include_colab_link": true
    },
    "kernelspec": {
      "display_name": "Python 3",
      "name": "python3"
    },
    "language_info": {
      "name": "python"
    }
  },
  "nbformat": 4,
  "nbformat_minor": 0
}