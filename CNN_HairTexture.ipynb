{
  "nbformat": 4,
  "nbformat_minor": 0,
  "metadata": {
    "colab": {
      "provenance": [],
      "toc_visible": true,
      "include_colab_link": true
    },
    "kernelspec": {
      "name": "python3",
      "display_name": "Python 3"
    },
    "language_info": {
      "name": "python"
    }
  },
  "cells": [
    {
      "cell_type": "markdown",
      "metadata": {
        "id": "view-in-github",
        "colab_type": "text"
      },
      "source": [
        "<a href=\"https://colab.research.google.com/github/CarmenTheodoraCraciun/HairClasification/blob/main/CNN_model.ipynb\" target=\"_parent\"><img src=\"https://colab.research.google.com/assets/colab-badge.svg\" alt=\"Open In Colab\"/></a>"
      ]
    },
    {
      "cell_type": "markdown",
      "source": [
        "# Import and clone repo"
      ],
      "metadata": {
        "id": "eK0jhh-3j70l"
      }
    },
    {
      "cell_type": "code",
      "execution_count": 1,
      "metadata": {
        "id": "q_EQ9jfWgUcM"
      },
      "outputs": [],
      "source": [
        "import os\n",
        "import cv2\n",
        "import shutil\n",
        "import numpy as np\n",
        "import pandas as pd\n",
        "import matplotlib.pyplot as plt\n",
        "import seaborn as sns\n",
        "from sklearn.model_selection import train_test_split\n",
        "from sklearn.preprocessing import LabelEncoder\n",
        "from sklearn.metrics import classification_report, confusion_matrix\n",
        "import tensorflow as tf\n",
        "from tensorflow.keras.models import Sequential\n",
        "from tensorflow.keras.layers import Conv2D, MaxPooling2D, Flatten, Dense, Dropout\n",
        "from tensorflow.keras.preprocessing.image import ImageDataGenerator\n",
        "from tensorflow.keras.applications import VGG16\n",
        "from tensorflow.keras.applications.vgg16 import preprocess_input\n",
        "from tensorflow.keras.utils import to_categorical\n",
        "from tensorflow.keras.regularizers import l2\n",
        "from keras.callbacks import EarlyStopping\n",
        "from keras.optimizers import Adam, SGD"
      ]
    },
    {
      "cell_type": "code",
      "source": [
        "!rm -rf ./HairClasification\n",
        "!git clone https://github.com/CarmenTheodoraCraciun/HairClasification.git\n",
        "!mv ./HairClasification/originalData/Straight/ ./HairClasification/originalData/straight\n",
        "!mv ./HairClasification/originalData/Wavy/ ./HairClasification/originalData/wavy"
      ],
      "metadata": {
        "id": "I60MDMr2iz7O",
        "outputId": "f48aea50-d310-49ae-856d-12048ad74583",
        "colab": {
          "base_uri": "https://localhost:8080/"
        }
      },
      "execution_count": 2,
      "outputs": [
        {
          "output_type": "stream",
          "name": "stdout",
          "text": [
            "Cloning into 'HairClasification'...\n",
            "remote: Enumerating objects: 7606, done.\u001b[K\n",
            "remote: Counting objects: 100% (8/8), done.\u001b[K\n",
            "remote: Compressing objects: 100% (3/3), done.\u001b[K\n",
            "remote: Total 7606 (delta 6), reused 5 (delta 5), pack-reused 7598 (from 1)\u001b[K\n",
            "Receiving objects: 100% (7606/7606), 447.86 MiB | 27.79 MiB/s, done.\n",
            "Resolving deltas: 100% (44/44), done.\n",
            "Updating files: 100% (4110/4110), done.\n"
          ]
        }
      ]
    },
    {
      "cell_type": "markdown",
      "source": [
        "# Data processing\n"
      ],
      "metadata": {
        "id": "q0ztLKXqjcst"
      }
    },
    {
      "cell_type": "code",
      "source": [
        "def is_image(file_path):\n",
        "    try:\n",
        "        img = cv2.imread(file_path)\n",
        "        return img is not None\n",
        "    except:\n",
        "        return False\n",
        "\n",
        "def resize_image(img, size):\n",
        "    \"\"\"\n",
        "    Resizes an image using bilinear interpolation.\n",
        "\n",
        "    Args:\n",
        "        img: Input image.\n",
        "        size: Desired size of the output image (width, height).\n",
        "\n",
        "    Returns:\n",
        "        Resized image.\n",
        "    \"\"\"\n",
        "    original_height, original_width, _ = img.shape\n",
        "    new_width, new_height = size\n",
        "    resized_img = np.zeros((new_height, new_width, 3), dtype=np.uint8)\n",
        "\n",
        "    for i in range(new_width):\n",
        "        for j in range(new_height):\n",
        "            #i, j = pixel in the resized image\n",
        "            # x, y = pixel in the original image\n",
        "            x = i * (original_width - 1) / (new_width - 1)\n",
        "            y = j * (original_height - 1) / (new_height - 1)\n",
        "\n",
        "            # Neighborhood values\n",
        "            x0 = int(np.floor(x))\n",
        "            x1 = min(x0 + 1, original_width - 1)\n",
        "            y0 = int(np.floor(y))\n",
        "            y1 = min(y0 + 1, original_height - 1)\n",
        "\n",
        "            # Extract the intensity values ​​of neighbors\n",
        "            Ia = img[y0, x0] # stanga sus\n",
        "            Ib = img[y0, x1] # drepata sus\n",
        "            Ic = img[y1, x0] # stanga jos\n",
        "            Id = img[y1, x1] # dreapta jos\n",
        "\n",
        "            # Calculates the weight of each neighboring to the final value\n",
        "            wa = (x1 - x) * (y1 - y)\n",
        "            wb = (x - x0) * (y1 - y)\n",
        "            wc = (x1 - x) * (y - y0)\n",
        "            wd = (x - x0) * (y - y0)\n",
        "\n",
        "            # The final value of the new pixel\n",
        "            pixel = wa * Ia + wb * Ib + wc * Ic + wd * Id\n",
        "            resized_img[j, i] = np.round(pixel).astype(int)\n",
        "\n",
        "    return resized_img\n",
        "\n",
        "def augment_image(img, size=(128, 128), shear_range=0.1, zoom_range=0.1, horizontal_flip=True):\n",
        "    \"\"\"\n",
        "    Preprocesses and augments an image by applying resizing, shearing, zooming, and horizontal flipping.\n",
        "\n",
        "    Args:\n",
        "        img: Input image.\n",
        "        size: Desired size of the output image (width, height).\n",
        "        shear_range: Range for random shearing.\n",
        "        zoom_range: Range for random zooming.\n",
        "        horizontal_flip: Whether to randomly flip the image horizontally.\n",
        "\n",
        "    Returns:\n",
        "        Preprocessed and augmented image.\n",
        "    \"\"\"\n",
        "    rows, cols, ch = img.shape\n",
        "    shear_factor = np.random.uniform(-shear_range, shear_range)\n",
        "    M_shear = np.array([[1, shear_factor, 0], [0, 1, 0]], dtype=np.float32)\n",
        "    img = cv2.warpAffine(img, M_shear, (cols, rows))\n",
        "\n",
        "    zoom_factor = np.random.uniform(1 - zoom_range, 1 + zoom_range)\n",
        "    img = cv2.resize(img, None, fx=zoom_factor, fy=zoom_factor)\n",
        "\n",
        "    if zoom_factor < 1: # zoom out\n",
        "        new_height, new_width = img.shape[:2]\n",
        "        # Number of pixels added to padding (black) and its addition\n",
        "        pad_height = (rows - new_height) // 2\n",
        "        pad_width = (cols - new_width) // 2\n",
        "        img = cv2.copyMakeBorder(img, pad_height, pad_height,\n",
        "            pad_width, pad_width, cv2.BORDER_CONSTANT, value=[0, 0, 0])\n",
        "    else: # zoom in\n",
        "        # Position of the starting point for cutting\n",
        "        start_x = (img.shape[1] - cols) // 2\n",
        "        start_y = (img.shape[0] - rows) // 2\n",
        "        img = img[start_y:start_y + rows, start_x:start_x + cols]\n",
        "\n",
        "    if horizontal_flip and np.random.random() < 0.5:\n",
        "        img = cv2.flip(img, 1)\n",
        "\n",
        "    img = cv2.resize(img, size)\n",
        "\n",
        "    return img\n",
        "\n",
        "def preprocess_images(input_dir, output_dir, size=(128, 128), augment_prob=0.3):\n",
        "    \"\"\"\n",
        "    Resizes images to the specified size and saves them to the output directory.\n",
        "    Applies augmentations to a random subset of images.\n",
        "\n",
        "    Args:\n",
        "        input_dir: Directory containing the input images.\n",
        "        output_dir: Directory to save the preprocessed images.\n",
        "        size: Desired size of the output images (width, height).\n",
        "        augment_prob: Probability of applying augmentation to each image.\n",
        "    \"\"\"\n",
        "    if not os.path.exists(output_dir):\n",
        "        os.makedirs(output_dir)\n",
        "\n",
        "    print(\"Start processing data.\")\n",
        "    for category in os.listdir(input_dir):\n",
        "        category_dir = os.path.join(input_dir, category)\n",
        "        output_category_dir = os.path.join(output_dir, category)\n",
        "        if not os.path.exists(output_category_dir):\n",
        "            os.makedirs(output_category_dir)\n",
        "\n",
        "        num_images = 0\n",
        "        if os.path.isdir(category_dir):\n",
        "            for idx, img_name in enumerate(os.listdir(category_dir)):\n",
        "                img_path = os.path.join(category_dir, img_name)\n",
        "\n",
        "                if is_image(img_path):\n",
        "                    img = cv2.imread(img_path)\n",
        "                    if img is not None:\n",
        "                        if np.random.rand() < augment_prob:\n",
        "                            img = augment_image(img, size=size)\n",
        "                        else:\n",
        "                            img = resize_image(img, size)\n",
        "                        new_img_name = f\"{category}_{idx}.png\"\n",
        "                        cv2.imwrite(os.path.join(output_category_dir, new_img_name), img)\n",
        "                        num_images += 1\n",
        "                    else:\n",
        "                        print(f\"Failed to load image: {img_path}\")\n",
        "                else:\n",
        "                    print(f\"Not an image: {img_path}\")\n",
        "\n",
        "        print(f\"Folder {output_category_dir} has {num_images} images.\")\n",
        "\n",
        "    print(\"The data are processed.\")"
      ],
      "metadata": {
        "id": "V8nJ3kZsGMhL"
      },
      "execution_count": 3,
      "outputs": []
    },
    {
      "cell_type": "code",
      "source": [
        "if not os.path.exists('./HairClasification/processData'):\n",
        "  preprocess_images('./HairClasification/originalData', './HairClasification/processData', size=(128, 128), augment_prob=0.3)"
      ],
      "metadata": {
        "id": "EwsjNADHIYMU"
      },
      "execution_count": 4,
      "outputs": []
    },
    {
      "cell_type": "code",
      "source": [
        "# import shutil\n",
        "\n",
        "# shutil.make_archive('/content/HairClasification/processData', 'zip', '/content/HairClasification/processData')\n",
        "# from google.colab import files\n",
        "\n",
        "# files.download('/content/HairClasification/processData.zip')"
      ],
      "metadata": {
        "id": "FaC1dUGe7uhD"
      },
      "execution_count": null,
      "outputs": []
    },
    {
      "cell_type": "markdown",
      "source": [
        "##Loading data with labels"
      ],
      "metadata": {
        "id": "klQddslMJEte"
      }
    },
    {
      "cell_type": "code",
      "source": [
        "def load_images_and_labels(input_dir, size=(128, 128)):\n",
        "    images = []\n",
        "    labels = []\n",
        "    for category in os.listdir(input_dir):\n",
        "        category_dir = os.path.join(input_dir, category)\n",
        "        if os.path.isdir(category_dir):\n",
        "            for img_name in os.listdir(category_dir):\n",
        "                img_path = os.path.join(category_dir, img_name)\n",
        "                img = cv2.imread(img_path)\n",
        "                if img is not None:\n",
        "                    img = cv2.resize(img, size)\n",
        "                    images.append(img)\n",
        "                    labels.append(category)\n",
        "    return np.array(images), np.array(labels)"
      ],
      "metadata": {
        "id": "MLTDRoJwh2Tg"
      },
      "execution_count": 6,
      "outputs": []
    },
    {
      "cell_type": "code",
      "source": [
        "input_dir = './HairClasification/processData'\n",
        "images, labels = load_images_and_labels(input_dir)"
      ],
      "metadata": {
        "id": "yBkS02LLkxoG"
      },
      "execution_count": 7,
      "outputs": []
    },
    {
      "cell_type": "markdown",
      "source": [
        "##Data Augmentation and Normalization\n",
        "\n",
        "* Normalization - to contain only 0 and 1 values"
      ],
      "metadata": {
        "id": "bVg21Bs6lEP7"
      }
    },
    {
      "cell_type": "code",
      "source": [
        "datagen = ImageDataGenerator(\n",
        "    rotation_range=20,\n",
        "    width_shift_range=0.2,\n",
        "    height_shift_range=0.2,\n",
        "    shear_range=0.2,\n",
        "    zoom_range=0.2,\n",
        "    horizontal_flip=True,\n",
        "    fill_mode='nearest'\n",
        ")\n",
        "\n",
        "# Apply augmentation to all images in the dataset\n",
        "augmented_images = []\n",
        "augmented_labels = []\n",
        "\n",
        "for img, label in zip(images, labels):\n",
        "    img = img.astype('float32') / 255.0  # Normalize the image\n",
        "    img = img[np.newaxis, ...]  # Expand dimensions for datagen flow\n",
        "    gen = datagen.flow(img, batch_size=1)\n",
        "    # Generate a few augmented images per original image (e.g., 5 augmentations each)\n",
        "    for _ in range(5):\n",
        "        aug_img = next(gen)[0]  # Correct usage of next() function\n",
        "        augmented_images.append(aug_img)\n",
        "        augmented_labels.append(label)\n",
        "\n",
        "\n",
        "images_augmented = np.array(augmented_images)\n",
        "labels_augmented = np.array(augmented_labels)"
      ],
      "metadata": {
        "id": "53JYsReblCzz"
      },
      "execution_count": 8,
      "outputs": []
    },
    {
      "cell_type": "code",
      "source": [
        "X_train, X_test, y_train, y_test = train_test_split(\n",
        "    images_augmented,\n",
        "    labels_augmented,\n",
        "    test_size=0.2,\n",
        "    random_state=42\n",
        ")"
      ],
      "metadata": {
        "id": "krU20qP4lAZv"
      },
      "execution_count": 9,
      "outputs": []
    },
    {
      "cell_type": "markdown",
      "source": [
        "##One-hot Encoding\n",
        "\n",
        "* One-hot encoding is a technique used to convert categorical data into a numeric format that a machine learning model can understand\n",
        "  * e.g. [0,0,0,1,0] means that the hair is straight.\n"
      ],
      "metadata": {
        "id": "19PK89Y7la86"
      }
    },
    {
      "cell_type": "code",
      "source": [
        "label_encoder = LabelEncoder()\n",
        "y_train_encoded = label_encoder.fit_transform(y_train)\n",
        "y_test_encoded = label_encoder.transform(y_test)\n",
        "\n",
        "y_train_categorical = to_categorical(y_train_encoded)\n",
        "y_test_categorical = to_categorical(y_test_encoded)"
      ],
      "metadata": {
        "id": "TsqPotSVldyn"
      },
      "execution_count": 10,
      "outputs": []
    },
    {
      "cell_type": "code",
      "source": [
        "train_datagen = datagen.flow(X_train, y_train_categorical, batch_size=32)\n",
        "validation_datagen = ImageDataGenerator().flow(X_test, y_test_categorical, batch_size=32)"
      ],
      "metadata": {
        "id": "7XwWKBj5lmsY"
      },
      "execution_count": 11,
      "outputs": []
    },
    {
      "cell_type": "markdown",
      "source": [
        "#Building the model"
      ],
      "metadata": {
        "id": "3LlzM5B6lzSw"
      }
    },
    {
      "cell_type": "markdown",
      "source": [
        "## Loading into the VGG16 pre-trained model\n",
        "\n",
        "VGG16 is a well-known and powerful convolutional neural network (CNN) model developed by the Visual Geometry Group (VGG) research team at the University of Oxford. Its name, VGG16, derives from its 16-layer deep neural network structure."
      ],
      "metadata": {
        "id": "jxLO5v09ltX3"
      }
    },
    {
      "cell_type": "code",
      "source": [
        "base_model = VGG16(weights='imagenet', include_top=False, input_shape=(128, 128, 3))\n",
        "\n",
        "for layer in base_model.layers:\n",
        "    layer.trainable = False"
      ],
      "metadata": {
        "id": "sDV0s41qlxvA",
        "outputId": "b841b258-2ba1-4c6f-fd79-17aecc640cd2",
        "colab": {
          "base_uri": "https://localhost:8080/"
        }
      },
      "execution_count": 12,
      "outputs": [
        {
          "output_type": "stream",
          "name": "stdout",
          "text": [
            "Downloading data from https://storage.googleapis.com/tensorflow/keras-applications/vgg16/vgg16_weights_tf_dim_ordering_tf_kernels_notop.h5\n",
            "\u001b[1m58889256/58889256\u001b[0m \u001b[32m━━━━━━━━━━━━━━━━━━━━\u001b[0m\u001b[37m\u001b[0m \u001b[1m0s\u001b[0m 0us/step\n"
          ]
        }
      ]
    },
    {
      "cell_type": "markdown",
      "source": [
        "##Building on top of VGG16"
      ],
      "metadata": {
        "id": "eWa8UJjdopro"
      }
    },
    {
      "cell_type": "code",
      "source": [
        "# Initialize the model as a sequential stack of layers\n",
        "model = Sequential()\n",
        "\n",
        "# Add the pre-trained base model\n",
        "# This serves as a feature extractor to reuse learned features from another task\n",
        "model.add(base_model)\n",
        "\n",
        "# Add a convolutional layer with 64 filters and a 3x3 kernel, ReLU activation\n",
        "# Padding is set to 'same' to preserve spatial dimensions\n",
        "model.add(Conv2D(64, (3, 3), activation='relu', padding='same'))\n",
        "\n",
        "# Add a max pooling layer to downsample the feature maps\n",
        "# This reduces spatial dimensions and captures the strongest signals in regions\n",
        "model.add(MaxPooling2D((2, 2)))\n",
        "\n",
        "# Add another convolutional layer with 128 filters and a 3x3 kernel, ReLU activation\n",
        "# Padding is again set to 'same' to preserve dimensions\n",
        "model.add(Conv2D(128, (3, 3), activation='relu', padding='same'))\n",
        "\n",
        "# Add another max pooling layer to further downsample feature maps\n",
        "model.add(MaxPooling2D((2, 2)))\n",
        "\n",
        "# Flatten the output feature maps into a 1D vector for the dense layers\n",
        "model.add(Flatten())\n",
        "\n",
        "# Add a dense (fully connected) layer with 256 neurons and ReLU activation\n",
        "# Apply L2 regularization to discourage large weights and avoid overfitting\n",
        "model.add(Dense(256, activation='relu', kernel_regularizer=l2(0.01)))\n",
        "\n",
        "# Add a dropout layer to randomly deactivate 50% of neurons during training\n",
        "# This helps prevent overfitting and improves generalization\n",
        "model.add(Dropout(0.5))\n",
        "\n",
        "# Add the output dense layer with a softmax activation function\n",
        "# The number of neurons is equal to the number of classes (derived from label_encoder.classes_)\n",
        "# This produces probabilities for each class in a multi-class classification task\n",
        "model.add(Dense(len(label_encoder.classes_), activation='softmax'))"
      ],
      "metadata": {
        "id": "eRsBvHf4l1--"
      },
      "execution_count": 13,
      "outputs": []
    },
    {
      "cell_type": "markdown",
      "source": [
        "#Compiling and training"
      ],
      "metadata": {
        "id": "4fvMPFwnl3cj"
      }
    },
    {
      "cell_type": "code",
      "source": [
        "model.compile(optimizer=Adam(learning_rate=0.001), loss='categorical_crossentropy', metrics=['accuracy'])"
      ],
      "metadata": {
        "id": "098b6_JPl79z"
      },
      "execution_count": 14,
      "outputs": []
    },
    {
      "cell_type": "code",
      "source": [
        "early_stop = EarlyStopping(monitor='val_loss', patience=5, restore_best_weights=True)"
      ],
      "metadata": {
        "id": "es2yikT5pXOd"
      },
      "execution_count": 15,
      "outputs": []
    },
    {
      "cell_type": "code",
      "source": [
        "history = model.fit(train_datagen, epochs=10, validation_data=validation_datagen, callbacks=[early_stop])"
      ],
      "metadata": {
        "colab": {
          "base_uri": "https://localhost:8080/"
        },
        "id": "P80vgiyEpqi4",
        "outputId": "0417dce6-7d75-49f1-b68b-ad339465499a"
      },
      "execution_count": 16,
      "outputs": [
        {
          "metadata": {
            "tags": null
          },
          "name": "stderr",
          "output_type": "stream",
          "text": [
            "/usr/local/lib/python3.11/dist-packages/keras/src/trainers/data_adapters/py_dataset_adapter.py:121: UserWarning: Your `PyDataset` class should call `super().__init__(**kwargs)` in its constructor. `**kwargs` can include `workers`, `use_multiprocessing`, `max_queue_size`. Do not pass these arguments to `fit()`, as they will be ignored.\n",
            "  self._warn_if_super_not_called()\n"
          ]
        },
        {
          "output_type": "stream",
          "name": "stdout",
          "text": [
            "Epoch 1/10\n",
            "\u001b[1m257/257\u001b[0m \u001b[32m━━━━━━━━━━━━━━━━━━━━\u001b[0m\u001b[37m\u001b[0m \u001b[1m2021s\u001b[0m 8s/step - accuracy: 0.4276 - loss: 2.3018 - val_accuracy: 0.6537 - val_loss: 1.0592\n",
            "Epoch 2/10\n",
            "\u001b[1m257/257\u001b[0m \u001b[32m━━━━━━━━━━━━━━━━━━━━\u001b[0m\u001b[37m\u001b[0m \u001b[1m1997s\u001b[0m 8s/step - accuracy: 0.6476 - loss: 1.0659 - val_accuracy: 0.7215 - val_loss: 0.7804\n",
            "Epoch 3/10\n",
            "\u001b[1m257/257\u001b[0m \u001b[32m━━━━━━━━━━━━━━━━━━━━\u001b[0m\u001b[37m\u001b[0m \u001b[1m2000s\u001b[0m 8s/step - accuracy: 0.6939 - loss: 0.8726 - val_accuracy: 0.7220 - val_loss: 0.7687\n",
            "Epoch 4/10\n",
            "\u001b[1m257/257\u001b[0m \u001b[32m━━━━━━━━━━━━━━━━━━━━\u001b[0m\u001b[37m\u001b[0m \u001b[1m1985s\u001b[0m 8s/step - accuracy: 0.7271 - loss: 0.7950 - val_accuracy: 0.7590 - val_loss: 0.6523\n",
            "Epoch 5/10\n",
            "\u001b[1m257/257\u001b[0m \u001b[32m━━━━━━━━━━━━━━━━━━━━\u001b[0m\u001b[37m\u001b[0m \u001b[1m2008s\u001b[0m 8s/step - accuracy: 0.7173 - loss: 0.7879 - val_accuracy: 0.7629 - val_loss: 0.6282\n",
            "Epoch 6/10\n",
            "\u001b[1m257/257\u001b[0m \u001b[32m━━━━━━━━━━━━━━━━━━━━\u001b[0m\u001b[37m\u001b[0m \u001b[1m1989s\u001b[0m 8s/step - accuracy: 0.7424 - loss: 0.7364 - val_accuracy: 0.7815 - val_loss: 0.5810\n",
            "Epoch 7/10\n",
            "\u001b[1m257/257\u001b[0m \u001b[32m━━━━━━━━━━━━━━━━━━━━\u001b[0m\u001b[37m\u001b[0m \u001b[1m1979s\u001b[0m 8s/step - accuracy: 0.7505 - loss: 0.6969 - val_accuracy: 0.7776 - val_loss: 0.5973\n",
            "Epoch 8/10\n",
            "\u001b[1m257/257\u001b[0m \u001b[32m━━━━━━━━━━━━━━━━━━━━\u001b[0m\u001b[37m\u001b[0m \u001b[1m2038s\u001b[0m 8s/step - accuracy: 0.7669 - loss: 0.6633 - val_accuracy: 0.7829 - val_loss: 0.5930\n",
            "Epoch 9/10\n",
            "\u001b[1m257/257\u001b[0m \u001b[32m━━━━━━━━━━━━━━━━━━━━\u001b[0m\u001b[37m\u001b[0m \u001b[1m1980s\u001b[0m 8s/step - accuracy: 0.7730 - loss: 0.6367 - val_accuracy: 0.8024 - val_loss: 0.5293\n",
            "Epoch 10/10\n",
            "\u001b[1m257/257\u001b[0m \u001b[32m━━━━━━━━━━━━━━━━━━━━\u001b[0m\u001b[37m\u001b[0m \u001b[1m1978s\u001b[0m 8s/step - accuracy: 0.7864 - loss: 0.6234 - val_accuracy: 0.7990 - val_loss: 0.5333\n"
          ]
        }
      ]
    },
    {
      "cell_type": "markdown",
      "source": [
        "#Model evaluation"
      ],
      "metadata": {
        "id": "xPGluVqyl-0B"
      }
    },
    {
      "cell_type": "code",
      "source": [
        "accuracy = history.history['accuracy']\n",
        "val_accuracy = history.history['val_accuracy']\n",
        "epochs = range(1, len(accuracy) + 1)\n",
        "\n",
        "plt.figure(figsize=(10, 6))\n",
        "plt.plot(epochs, accuracy, 'b', label='Accuracy on training data')\n",
        "plt.plot(epochs, val_accuracy, 'r', label='Accuracy on validation data')\n",
        "plt.title('Accuracy during training')\n",
        "plt.xlabel('Epoch')\n",
        "plt.ylabel('Accuracy')\n",
        "plt.legend()\n",
        "plt.show()"
      ],
      "metadata": {
        "id": "EYYpr686mCuN",
        "outputId": "01872ffd-ea29-4107-f3f8-ba6f267b8013",
        "colab": {
          "base_uri": "https://localhost:8080/",
          "height": 564
        }
      },
      "execution_count": 17,
      "outputs": [
        {
          "output_type": "display_data",
          "data": {
            "text/plain": [
              "<Figure size 1000x600 with 1 Axes>"
            ],
            "image/png": "[encoded data removed]"
          },
          "metadata": {}
        }
      ]
    },
    {
      "cell_type": "code",
      "source": [
        "loss, accuracy = model.evaluate(X_test, y_test_categorical)\n",
        "print(f'Test accuracy: {accuracy:.4f}')"
      ],
      "metadata": {
        "id": "t1LsjnI1mA1I",
        "outputId": "1e3b45d9-12e3-4889-9e20-6a396dd29f6e",
        "colab": {
          "base_uri": "https://localhost:8080/"
        }
      },
      "execution_count": 19,
      "outputs": [
        {
          "output_type": "stream",
          "name": "stdout",
          "text": [
            "\u001b[1m65/65\u001b[0m \u001b[32m━━━━━━━━━━━━━━━━━━━━\u001b[0m\u001b[37m\u001b[0m \u001b[1m425s\u001b[0m 6s/step - accuracy: 0.7967 - loss: 0.5353\n",
            "Test accuracy: 0.8024\n"
          ]
        }
      ]
    },
    {
      "cell_type": "code",
      "source": [
        "y_pred_encoded = model.predict(X_test)\n",
        "y_pred = np.argmax(y_pred_encoded, axis=1)\n",
        "y_test = np.argmax(y_test_categorical, axis=1)\n",
        "\n",
        "print(classification_report(y_test, y_pred, target_names=label_encoder.classes_))"
      ],
      "metadata": {
        "id": "eBjSeTiJmGA1",
        "outputId": "68e9521a-bcc3-4af7-c55f-2ddd18a8adbe",
        "colab": {
          "base_uri": "https://localhost:8080/"
        }
      },
      "execution_count": 20,
      "outputs": [
        {
          "output_type": "stream",
          "name": "stdout",
          "text": [
            "\u001b[1m65/65\u001b[0m \u001b[32m━━━━━━━━━━━━━━━━━━━━\u001b[0m\u001b[37m\u001b[0m \u001b[1m393s\u001b[0m 6s/step\n",
            "              precision    recall  f1-score   support\n",
            "\n",
            "       curly       0.83      0.80      0.81       527\n",
            "  dreadlocks       0.85      0.86      0.86       457\n",
            "       kinky       0.70      0.84      0.77       246\n",
            "    straight       0.80      0.84      0.82       498\n",
            "        wavy       0.79      0.63      0.70       322\n",
            "\n",
            "    accuracy                           0.80      2050\n",
            "   macro avg       0.79      0.80      0.79      2050\n",
            "weighted avg       0.80      0.80      0.80      2050\n",
            "\n"
          ]
        }
      ]
    },
    {
      "cell_type": "code",
      "source": [
        "conf_matrix = confusion_matrix(y_test, y_pred)\n",
        "conf_df = pd.DataFrame(conf_matrix, index=label_encoder.classes_, columns=label_encoder.classes_)\n",
        "\n",
        "plt.figure(figsize=(10, 7))\n",
        "sns.heatmap(conf_df, annot=True, cmap=\"Blues\", fmt=\"d\")\n",
        "plt.title(\"Confuzion matrix\")\n",
        "plt.ylabel(\"Real classes\")\n",
        "plt.xlabel(\"Predicted classes\")\n",
        "plt.show()"
      ],
      "metadata": {
        "id": "_PC6zR2imHm8",
        "outputId": "e46d0d8a-2758-472e-9ef7-69bd3beb60d3",
        "colab": {
          "base_uri": "https://localhost:8080/",
          "height": 641
        }
      },
      "execution_count": 21,
      "outputs": [
        {
          "output_type": "display_data",
          "data": {
            "text/plain": [
              "<Figure size 1000x700 with 2 Axes>"
            ],
            "image/png": "[encoded data removed]"
          },
          "metadata": {}
        }
      ]
    }
  ]
}